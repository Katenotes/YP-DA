{
 "cells": [
  {
   "cell_type": "markdown",
   "id": "83fae450",
   "metadata": {
    "deletable": false,
    "editable": false,
    "id": "c81daeeb"
   },
   "source": [
    "# Исследование надежности заемщиков\n"
   ]
  },
  {
   "cell_type": "markdown",
   "id": "26ac68e0",
   "metadata": {
    "deletable": false,
    "editable": false,
    "id": "827c20bf"
   },
   "source": [
    "Во второй части проекта вы выполните шаги 3 и 4. Их вручную проверит ревьюер.\n",
    "Чтобы вам не пришлось писать код заново для шагов 1 и 2, мы добавили авторские решения в ячейки с кодом. \n",
    "\n"
   ]
  },
  {
   "cell_type": "markdown",
   "id": "411a8a73",
   "metadata": {},
   "source": [
    "Порядок рассмотрения заявки на выдачу кредита предполагает изучение персональных данных, которые раскрывают информацию о платежеспособности потенциального заемщика. Результаты данного исследования будут учтены при построении **модели кредитного скоринга** — специальной системы, которая оценивает способность потенциального заёмщика вернуть кредит банку. Решение об отклонении или удовлетворении запроса на предоставление кредита зависит от множества факторов, которые предстоит проверить.\n",
    "\n",
    "**Цель исследования** - проверить четыре гипотезы:  \n",
    "1. **Количество детей у потенциального заемщика влияет на вероятность возврата кредита в срок.** (Наличие иждивенцев значительно снижает платежеспособность)\n",
    "2. **Семейное положение влияет на вероятность возврата кредита в срок.** (При возникновении проблем с выполнением долговых обязательств, супруги могут найти дополнительные источники доходов)\n",
    "3. **Уровень дохода влияет на вероятность возврата кредита в срок.** (Заемщикам со стабильным доходом проще всего взять кредит)\n",
    "4. **Цели кредитования влияют на вероятность возврата кредита в срок.** (Целевое кредитование интересно банку потому что банк может оформить приобретаемое по целевому займу имущество в залог, а если и не оформит, то может взыскать это имущество через суд в случае просрочки платежей)  \n",
    "\n",
    "**Ход исследования:**  \n",
    "\n",
    "**Входные данные от банка** — статистика о платёжеспособности клиентов получены из файла datasets/data.csv. О качестве данных изначально ничего не известно, поэтому перед проверкой гипотез понадобится обзор данных (проверка данных на ошибки и оценка их влияния на исследование).\n",
    "\n",
    "**Исследование пройдет в три этапа:**  \n",
    "1. Обзор данных.\n",
    "2. Предобработка данных.\n",
    "3. Проверка гипотез.\n"
   ]
  },
  {
   "cell_type": "markdown",
   "id": "3e303c64",
   "metadata": {
    "deletable": false,
    "editable": false,
    "id": "744d7639"
   },
   "source": [
    "## Откройте таблицу и изучите общую информацию о данных"
   ]
  },
  {
   "cell_type": "markdown",
   "id": "bebe4f30",
   "metadata": {
    "deletable": false,
    "editable": false,
    "id": "e7a14c31"
   },
   "source": [
    "**Задание 1. Импортируйте библиотеку pandas. Считайте данные из csv-файла в датафрейм и сохраните в переменную `data`. Путь к файлу:**\n",
    "\n",
    "`/datasets/data.csv`"
   ]
  },
  {
   "cell_type": "code",
   "execution_count": 1,
   "id": "35059b61",
   "metadata": {
    "deletable": false,
    "id": "7bcf75c9"
   },
   "outputs": [],
   "source": [
    "import pandas as pd\n",
    "\n",
    "try:\n",
    "    data = pd.read_csv('/datasets/data.csv')\n",
    "except:\n",
    "    data = pd.read_csv('https://code.s3.yandex.net/datasets/data.csv')"
   ]
  },
  {
   "cell_type": "markdown",
   "id": "4b9b10c1",
   "metadata": {},
   "source": [
    "**Комментарии:**  \n",
    "Для считывания файла использована конструкция try и except. Если код в блоке try не сработает должным образом, то запустится блок except."
   ]
  },
  {
   "cell_type": "markdown",
   "id": "a207c49d",
   "metadata": {
    "deletable": false,
    "editable": false,
    "id": "b8038fe3"
   },
   "source": [
    "**Задание 2. Выведите первые 20 строчек датафрейма `data` на экран.**"
   ]
  },
  {
   "cell_type": "code",
   "execution_count": 2,
   "id": "6d63ca00",
   "metadata": {
    "deletable": false,
    "id": "2a7cab99",
    "outputId": "1a8f3ef2-d323-4ec2-ddf7-89670b5944c4",
    "scrolled": true
   },
   "outputs": [
    {
     "data": {
      "text/html": [
       "<div>\n",
       "<style scoped>\n",
       "    .dataframe tbody tr th:only-of-type {\n",
       "        vertical-align: middle;\n",
       "    }\n",
       "\n",
       "    .dataframe tbody tr th {\n",
       "        vertical-align: top;\n",
       "    }\n",
       "\n",
       "    .dataframe thead th {\n",
       "        text-align: right;\n",
       "    }\n",
       "</style>\n",
       "<table border=\"1\" class=\"dataframe\">\n",
       "  <thead>\n",
       "    <tr style=\"text-align: right;\">\n",
       "      <th></th>\n",
       "      <th>children</th>\n",
       "      <th>days_employed</th>\n",
       "      <th>dob_years</th>\n",
       "      <th>education</th>\n",
       "      <th>education_id</th>\n",
       "      <th>family_status</th>\n",
       "      <th>family_status_id</th>\n",
       "      <th>gender</th>\n",
       "      <th>income_type</th>\n",
       "      <th>debt</th>\n",
       "      <th>total_income</th>\n",
       "      <th>purpose</th>\n",
       "    </tr>\n",
       "  </thead>\n",
       "  <tbody>\n",
       "    <tr>\n",
       "      <th>0</th>\n",
       "      <td>1</td>\n",
       "      <td>-8437.673028</td>\n",
       "      <td>42</td>\n",
       "      <td>высшее</td>\n",
       "      <td>0</td>\n",
       "      <td>женат / замужем</td>\n",
       "      <td>0</td>\n",
       "      <td>F</td>\n",
       "      <td>сотрудник</td>\n",
       "      <td>0</td>\n",
       "      <td>253875.639453</td>\n",
       "      <td>покупка жилья</td>\n",
       "    </tr>\n",
       "    <tr>\n",
       "      <th>1</th>\n",
       "      <td>1</td>\n",
       "      <td>-4024.803754</td>\n",
       "      <td>36</td>\n",
       "      <td>среднее</td>\n",
       "      <td>1</td>\n",
       "      <td>женат / замужем</td>\n",
       "      <td>0</td>\n",
       "      <td>F</td>\n",
       "      <td>сотрудник</td>\n",
       "      <td>0</td>\n",
       "      <td>112080.014102</td>\n",
       "      <td>приобретение автомобиля</td>\n",
       "    </tr>\n",
       "    <tr>\n",
       "      <th>2</th>\n",
       "      <td>0</td>\n",
       "      <td>-5623.422610</td>\n",
       "      <td>33</td>\n",
       "      <td>Среднее</td>\n",
       "      <td>1</td>\n",
       "      <td>женат / замужем</td>\n",
       "      <td>0</td>\n",
       "      <td>M</td>\n",
       "      <td>сотрудник</td>\n",
       "      <td>0</td>\n",
       "      <td>145885.952297</td>\n",
       "      <td>покупка жилья</td>\n",
       "    </tr>\n",
       "    <tr>\n",
       "      <th>3</th>\n",
       "      <td>3</td>\n",
       "      <td>-4124.747207</td>\n",
       "      <td>32</td>\n",
       "      <td>среднее</td>\n",
       "      <td>1</td>\n",
       "      <td>женат / замужем</td>\n",
       "      <td>0</td>\n",
       "      <td>M</td>\n",
       "      <td>сотрудник</td>\n",
       "      <td>0</td>\n",
       "      <td>267628.550329</td>\n",
       "      <td>дополнительное образование</td>\n",
       "    </tr>\n",
       "    <tr>\n",
       "      <th>4</th>\n",
       "      <td>0</td>\n",
       "      <td>340266.072047</td>\n",
       "      <td>53</td>\n",
       "      <td>среднее</td>\n",
       "      <td>1</td>\n",
       "      <td>гражданский брак</td>\n",
       "      <td>1</td>\n",
       "      <td>F</td>\n",
       "      <td>пенсионер</td>\n",
       "      <td>0</td>\n",
       "      <td>158616.077870</td>\n",
       "      <td>сыграть свадьбу</td>\n",
       "    </tr>\n",
       "    <tr>\n",
       "      <th>5</th>\n",
       "      <td>0</td>\n",
       "      <td>-926.185831</td>\n",
       "      <td>27</td>\n",
       "      <td>высшее</td>\n",
       "      <td>0</td>\n",
       "      <td>гражданский брак</td>\n",
       "      <td>1</td>\n",
       "      <td>M</td>\n",
       "      <td>компаньон</td>\n",
       "      <td>0</td>\n",
       "      <td>255763.565419</td>\n",
       "      <td>покупка жилья</td>\n",
       "    </tr>\n",
       "    <tr>\n",
       "      <th>6</th>\n",
       "      <td>0</td>\n",
       "      <td>-2879.202052</td>\n",
       "      <td>43</td>\n",
       "      <td>высшее</td>\n",
       "      <td>0</td>\n",
       "      <td>женат / замужем</td>\n",
       "      <td>0</td>\n",
       "      <td>F</td>\n",
       "      <td>компаньон</td>\n",
       "      <td>0</td>\n",
       "      <td>240525.971920</td>\n",
       "      <td>операции с жильем</td>\n",
       "    </tr>\n",
       "    <tr>\n",
       "      <th>7</th>\n",
       "      <td>0</td>\n",
       "      <td>-152.779569</td>\n",
       "      <td>50</td>\n",
       "      <td>СРЕДНЕЕ</td>\n",
       "      <td>1</td>\n",
       "      <td>женат / замужем</td>\n",
       "      <td>0</td>\n",
       "      <td>M</td>\n",
       "      <td>сотрудник</td>\n",
       "      <td>0</td>\n",
       "      <td>135823.934197</td>\n",
       "      <td>образование</td>\n",
       "    </tr>\n",
       "    <tr>\n",
       "      <th>8</th>\n",
       "      <td>2</td>\n",
       "      <td>-6929.865299</td>\n",
       "      <td>35</td>\n",
       "      <td>ВЫСШЕЕ</td>\n",
       "      <td>0</td>\n",
       "      <td>гражданский брак</td>\n",
       "      <td>1</td>\n",
       "      <td>F</td>\n",
       "      <td>сотрудник</td>\n",
       "      <td>0</td>\n",
       "      <td>95856.832424</td>\n",
       "      <td>на проведение свадьбы</td>\n",
       "    </tr>\n",
       "    <tr>\n",
       "      <th>9</th>\n",
       "      <td>0</td>\n",
       "      <td>-2188.756445</td>\n",
       "      <td>41</td>\n",
       "      <td>среднее</td>\n",
       "      <td>1</td>\n",
       "      <td>женат / замужем</td>\n",
       "      <td>0</td>\n",
       "      <td>M</td>\n",
       "      <td>сотрудник</td>\n",
       "      <td>0</td>\n",
       "      <td>144425.938277</td>\n",
       "      <td>покупка жилья для семьи</td>\n",
       "    </tr>\n",
       "    <tr>\n",
       "      <th>10</th>\n",
       "      <td>2</td>\n",
       "      <td>-4171.483647</td>\n",
       "      <td>36</td>\n",
       "      <td>высшее</td>\n",
       "      <td>0</td>\n",
       "      <td>женат / замужем</td>\n",
       "      <td>0</td>\n",
       "      <td>M</td>\n",
       "      <td>компаньон</td>\n",
       "      <td>0</td>\n",
       "      <td>113943.491460</td>\n",
       "      <td>покупка недвижимости</td>\n",
       "    </tr>\n",
       "    <tr>\n",
       "      <th>11</th>\n",
       "      <td>0</td>\n",
       "      <td>-792.701887</td>\n",
       "      <td>40</td>\n",
       "      <td>среднее</td>\n",
       "      <td>1</td>\n",
       "      <td>женат / замужем</td>\n",
       "      <td>0</td>\n",
       "      <td>F</td>\n",
       "      <td>сотрудник</td>\n",
       "      <td>0</td>\n",
       "      <td>77069.234271</td>\n",
       "      <td>покупка коммерческой недвижимости</td>\n",
       "    </tr>\n",
       "    <tr>\n",
       "      <th>12</th>\n",
       "      <td>0</td>\n",
       "      <td>NaN</td>\n",
       "      <td>65</td>\n",
       "      <td>среднее</td>\n",
       "      <td>1</td>\n",
       "      <td>гражданский брак</td>\n",
       "      <td>1</td>\n",
       "      <td>M</td>\n",
       "      <td>пенсионер</td>\n",
       "      <td>0</td>\n",
       "      <td>NaN</td>\n",
       "      <td>сыграть свадьбу</td>\n",
       "    </tr>\n",
       "    <tr>\n",
       "      <th>13</th>\n",
       "      <td>0</td>\n",
       "      <td>-1846.641941</td>\n",
       "      <td>54</td>\n",
       "      <td>неоконченное высшее</td>\n",
       "      <td>2</td>\n",
       "      <td>женат / замужем</td>\n",
       "      <td>0</td>\n",
       "      <td>F</td>\n",
       "      <td>сотрудник</td>\n",
       "      <td>0</td>\n",
       "      <td>130458.228857</td>\n",
       "      <td>приобретение автомобиля</td>\n",
       "    </tr>\n",
       "    <tr>\n",
       "      <th>14</th>\n",
       "      <td>0</td>\n",
       "      <td>-1844.956182</td>\n",
       "      <td>56</td>\n",
       "      <td>высшее</td>\n",
       "      <td>0</td>\n",
       "      <td>гражданский брак</td>\n",
       "      <td>1</td>\n",
       "      <td>F</td>\n",
       "      <td>компаньон</td>\n",
       "      <td>1</td>\n",
       "      <td>165127.911772</td>\n",
       "      <td>покупка жилой недвижимости</td>\n",
       "    </tr>\n",
       "    <tr>\n",
       "      <th>15</th>\n",
       "      <td>1</td>\n",
       "      <td>-972.364419</td>\n",
       "      <td>26</td>\n",
       "      <td>среднее</td>\n",
       "      <td>1</td>\n",
       "      <td>женат / замужем</td>\n",
       "      <td>0</td>\n",
       "      <td>F</td>\n",
       "      <td>сотрудник</td>\n",
       "      <td>0</td>\n",
       "      <td>116820.904450</td>\n",
       "      <td>строительство собственной недвижимости</td>\n",
       "    </tr>\n",
       "    <tr>\n",
       "      <th>16</th>\n",
       "      <td>0</td>\n",
       "      <td>-1719.934226</td>\n",
       "      <td>35</td>\n",
       "      <td>среднее</td>\n",
       "      <td>1</td>\n",
       "      <td>женат / замужем</td>\n",
       "      <td>0</td>\n",
       "      <td>F</td>\n",
       "      <td>сотрудник</td>\n",
       "      <td>0</td>\n",
       "      <td>289202.704229</td>\n",
       "      <td>недвижимость</td>\n",
       "    </tr>\n",
       "    <tr>\n",
       "      <th>17</th>\n",
       "      <td>0</td>\n",
       "      <td>-2369.999720</td>\n",
       "      <td>33</td>\n",
       "      <td>высшее</td>\n",
       "      <td>0</td>\n",
       "      <td>гражданский брак</td>\n",
       "      <td>1</td>\n",
       "      <td>M</td>\n",
       "      <td>сотрудник</td>\n",
       "      <td>0</td>\n",
       "      <td>90410.586745</td>\n",
       "      <td>строительство недвижимости</td>\n",
       "    </tr>\n",
       "    <tr>\n",
       "      <th>18</th>\n",
       "      <td>0</td>\n",
       "      <td>400281.136913</td>\n",
       "      <td>53</td>\n",
       "      <td>среднее</td>\n",
       "      <td>1</td>\n",
       "      <td>вдовец / вдова</td>\n",
       "      <td>2</td>\n",
       "      <td>F</td>\n",
       "      <td>пенсионер</td>\n",
       "      <td>0</td>\n",
       "      <td>56823.777243</td>\n",
       "      <td>на покупку подержанного автомобиля</td>\n",
       "    </tr>\n",
       "    <tr>\n",
       "      <th>19</th>\n",
       "      <td>0</td>\n",
       "      <td>-10038.818549</td>\n",
       "      <td>48</td>\n",
       "      <td>СРЕДНЕЕ</td>\n",
       "      <td>1</td>\n",
       "      <td>в разводе</td>\n",
       "      <td>3</td>\n",
       "      <td>F</td>\n",
       "      <td>сотрудник</td>\n",
       "      <td>0</td>\n",
       "      <td>242831.107982</td>\n",
       "      <td>на покупку своего автомобиля</td>\n",
       "    </tr>\n",
       "  </tbody>\n",
       "</table>\n",
       "</div>"
      ],
      "text/plain": [
       "    children  days_employed  dob_years            education  education_id  \\\n",
       "0          1   -8437.673028         42               высшее             0   \n",
       "1          1   -4024.803754         36              среднее             1   \n",
       "2          0   -5623.422610         33              Среднее             1   \n",
       "3          3   -4124.747207         32              среднее             1   \n",
       "4          0  340266.072047         53              среднее             1   \n",
       "5          0    -926.185831         27               высшее             0   \n",
       "6          0   -2879.202052         43               высшее             0   \n",
       "7          0    -152.779569         50              СРЕДНЕЕ             1   \n",
       "8          2   -6929.865299         35               ВЫСШЕЕ             0   \n",
       "9          0   -2188.756445         41              среднее             1   \n",
       "10         2   -4171.483647         36               высшее             0   \n",
       "11         0    -792.701887         40              среднее             1   \n",
       "12         0            NaN         65              среднее             1   \n",
       "13         0   -1846.641941         54  неоконченное высшее             2   \n",
       "14         0   -1844.956182         56               высшее             0   \n",
       "15         1    -972.364419         26              среднее             1   \n",
       "16         0   -1719.934226         35              среднее             1   \n",
       "17         0   -2369.999720         33               высшее             0   \n",
       "18         0  400281.136913         53              среднее             1   \n",
       "19         0  -10038.818549         48              СРЕДНЕЕ             1   \n",
       "\n",
       "       family_status  family_status_id gender income_type  debt  \\\n",
       "0    женат / замужем                 0      F   сотрудник     0   \n",
       "1    женат / замужем                 0      F   сотрудник     0   \n",
       "2    женат / замужем                 0      M   сотрудник     0   \n",
       "3    женат / замужем                 0      M   сотрудник     0   \n",
       "4   гражданский брак                 1      F   пенсионер     0   \n",
       "5   гражданский брак                 1      M   компаньон     0   \n",
       "6    женат / замужем                 0      F   компаньон     0   \n",
       "7    женат / замужем                 0      M   сотрудник     0   \n",
       "8   гражданский брак                 1      F   сотрудник     0   \n",
       "9    женат / замужем                 0      M   сотрудник     0   \n",
       "10   женат / замужем                 0      M   компаньон     0   \n",
       "11   женат / замужем                 0      F   сотрудник     0   \n",
       "12  гражданский брак                 1      M   пенсионер     0   \n",
       "13   женат / замужем                 0      F   сотрудник     0   \n",
       "14  гражданский брак                 1      F   компаньон     1   \n",
       "15   женат / замужем                 0      F   сотрудник     0   \n",
       "16   женат / замужем                 0      F   сотрудник     0   \n",
       "17  гражданский брак                 1      M   сотрудник     0   \n",
       "18    вдовец / вдова                 2      F   пенсионер     0   \n",
       "19         в разводе                 3      F   сотрудник     0   \n",
       "\n",
       "     total_income                                 purpose  \n",
       "0   253875.639453                           покупка жилья  \n",
       "1   112080.014102                 приобретение автомобиля  \n",
       "2   145885.952297                           покупка жилья  \n",
       "3   267628.550329              дополнительное образование  \n",
       "4   158616.077870                         сыграть свадьбу  \n",
       "5   255763.565419                           покупка жилья  \n",
       "6   240525.971920                       операции с жильем  \n",
       "7   135823.934197                             образование  \n",
       "8    95856.832424                   на проведение свадьбы  \n",
       "9   144425.938277                 покупка жилья для семьи  \n",
       "10  113943.491460                    покупка недвижимости  \n",
       "11   77069.234271       покупка коммерческой недвижимости  \n",
       "12            NaN                         сыграть свадьбу  \n",
       "13  130458.228857                 приобретение автомобиля  \n",
       "14  165127.911772              покупка жилой недвижимости  \n",
       "15  116820.904450  строительство собственной недвижимости  \n",
       "16  289202.704229                            недвижимость  \n",
       "17   90410.586745              строительство недвижимости  \n",
       "18   56823.777243      на покупку подержанного автомобиля  \n",
       "19  242831.107982            на покупку своего автомобиля  "
      ]
     },
     "execution_count": 2,
     "metadata": {},
     "output_type": "execute_result"
    }
   ],
   "source": [
    "data.head(20)"
   ]
  },
  {
   "cell_type": "markdown",
   "id": "5115ed57",
   "metadata": {},
   "source": [
    "**Комментарии:**   \n",
    "На первый взгляд сразу видны некоторые проблемы с данными:\n",
    "1. Отсутствуют значения в столбцах 'days_employed'\n",
    "2. Разный регистр данных в столбце 'education' и 'total_income'.\n",
    "3. В столбце 'days_employed' есть как положительные, так и отрицательные значения, что странно для указания общего трудового стажа."
   ]
  },
  {
   "cell_type": "markdown",
   "id": "5dfb18ad",
   "metadata": {
    "deletable": false,
    "editable": false,
    "id": "1c12e233"
   },
   "source": [
    "**Задание 3. Выведите основную информацию о датафрейме с помощью метода `info()`.**"
   ]
  },
  {
   "cell_type": "code",
   "execution_count": 3,
   "id": "aed3416d",
   "metadata": {
    "deletable": false,
    "id": "2b757bca",
    "outputId": "15376089-8dad-46c9-b520-c05248d43158"
   },
   "outputs": [
    {
     "name": "stdout",
     "output_type": "stream",
     "text": [
      "<class 'pandas.core.frame.DataFrame'>\n",
      "RangeIndex: 21525 entries, 0 to 21524\n",
      "Data columns (total 12 columns):\n",
      " #   Column            Non-Null Count  Dtype  \n",
      "---  ------            --------------  -----  \n",
      " 0   children          21525 non-null  int64  \n",
      " 1   days_employed     19351 non-null  float64\n",
      " 2   dob_years         21525 non-null  int64  \n",
      " 3   education         21525 non-null  object \n",
      " 4   education_id      21525 non-null  int64  \n",
      " 5   family_status     21525 non-null  object \n",
      " 6   family_status_id  21525 non-null  int64  \n",
      " 7   gender            21525 non-null  object \n",
      " 8   income_type       21525 non-null  object \n",
      " 9   debt              21525 non-null  int64  \n",
      " 10  total_income      19351 non-null  float64\n",
      " 11  purpose           21525 non-null  object \n",
      "dtypes: float64(2), int64(5), object(5)\n",
      "memory usage: 2.0+ MB\n"
     ]
    }
   ],
   "source": [
    "data.info()"
   ]
  },
  {
   "cell_type": "markdown",
   "id": "ffaf5df2",
   "metadata": {},
   "source": [
    "**Комментарии:**  \n",
    "В таблице 12 столбцов и 21525 строк.\n",
    "\n",
    "**Согласно документации к данным:**\n",
    "- `children` — количество детей в семье\n",
    "- `days_employed` — общий трудовой стаж в днях\n",
    "- `dob_years` — возраст клиента в годах\n",
    "- `education` — уровень образования клиента\n",
    "- `education_id` — идентификатор уровня образования\n",
    "- `family_status` — семейное положение\n",
    "- `family_status_id` — идентификатор семейного положения\n",
    "- `gender` — пол клиента\n",
    "- `income_type` — тип занятости\n",
    "- `debt` — имел ли задолженность по возврату кредитов\n",
    "- `total_income` — ежемесячный доход\n",
    "- `purpose` — цель получения кредита\n",
    "\n",
    "1. Количество значений в столбцах 'days_employed' и 'total_income' говорит о том, что есть пропущенные значения.\n",
    "2. Основные показатели для работы с гипотезами - это количество детей в семье, семейное положение, наличие задолженности по возврату кредита, доход заемщика."
   ]
  },
  {
   "cell_type": "markdown",
   "id": "07daa20a",
   "metadata": {
    "deletable": false,
    "editable": false,
    "id": "333ec665"
   },
   "source": [
    "## Предобработка данных"
   ]
  },
  {
   "cell_type": "markdown",
   "id": "098a0912",
   "metadata": {
    "deletable": false,
    "editable": false,
    "id": "02d92d53"
   },
   "source": [
    "### Удаление пропусков"
   ]
  },
  {
   "cell_type": "markdown",
   "id": "e85788e5",
   "metadata": {
    "deletable": false,
    "editable": false,
    "id": "cd84967c"
   },
   "source": [
    "**Задание 4. Выведите количество пропущенных значений для каждого столбца. Используйте комбинацию двух методов.**"
   ]
  },
  {
   "cell_type": "code",
   "execution_count": 4,
   "id": "8e45a932",
   "metadata": {
    "deletable": false,
    "id": "7f9b2309",
    "outputId": "81f4d817-781c-465c-ed15-91ce4446810d",
    "scrolled": false
   },
   "outputs": [
    {
     "data": {
      "text/plain": [
       "children               0\n",
       "days_employed       2174\n",
       "dob_years              0\n",
       "education              0\n",
       "education_id           0\n",
       "family_status          0\n",
       "family_status_id       0\n",
       "gender                 0\n",
       "income_type            0\n",
       "debt                   0\n",
       "total_income        2174\n",
       "purpose                0\n",
       "dtype: int64"
      ]
     },
     "execution_count": 4,
     "metadata": {},
     "output_type": "execute_result"
    }
   ],
   "source": [
    "data.isna().sum()"
   ]
  },
  {
   "cell_type": "markdown",
   "id": "1908c1eb",
   "metadata": {},
   "source": [
    "**Комментарии:**   \n",
    "Подозрение подтвердилось, в столбцах 'days_employed' и 'total_income' по 2174 пропущенных значения."
   ]
  },
  {
   "cell_type": "markdown",
   "id": "9c76e574",
   "metadata": {
    "deletable": false,
    "editable": false,
    "id": "db86e27b"
   },
   "source": [
    "**Задание 5. В двух столбцах есть пропущенные значения. Один из них — `days_employed`. Пропуски в этом столбце вы обработаете на следующем этапе. Другой столбец с пропущенными значениями — `total_income` — хранит данные о доходах. На сумму дохода сильнее всего влияет тип занятости, поэтому заполнить пропуски в этом столбце нужно медианным значением по каждому типу из столбца `income_type`. Например, у человека с типом занятости `сотрудник` пропуск в столбце `total_income` должен быть заполнен медианным доходом среди всех записей с тем же типом.**"
   ]
  },
  {
   "cell_type": "code",
   "execution_count": 5,
   "id": "77b15f9f",
   "metadata": {
    "deletable": false,
    "id": "42006a93"
   },
   "outputs": [],
   "source": [
    "for t in data['income_type'].unique():\n",
    "    data.loc[(data['income_type'] == t) & (data['total_income'].isna()), 'total_income'] = \\\n",
    "    data.loc[(data['income_type'] == t), 'total_income'].median()"
   ]
  },
  {
   "cell_type": "markdown",
   "id": "ebdbb6e8",
   "metadata": {},
   "source": [
    "**Комментарии:**  \n",
    "Данные с большим количеством пропущенных значений могут существенно повлиять на качество исследования, а их удаление может привести к потере большого количества информации, поэтому одним из способов решения этой проблемы является восполнение отсутствующих (пропущенных) значений из существующей части данных медианой. Данный метод является простым и быстрым.\n",
    "\n",
    "Пропуски могли случиться из-за:  \n",
    "- технических проблем;\n",
    "- датасет был собран из нескольких источников с разными наборами параметров;\n",
    "- человеческий фактор, ошибка банковского специалиста;\n",
    "- возможно у заемщиков нет подтвержденного дохода или стажа (нет официального оформления, серая зп и т.п.);\n",
    "- заемщик никогда не работал, возможно по состоянию здоровья (оформлена инвалидность).\n",
    "\n",
    "В идеале, лучше уточнять возможные причины отсутствующих данных у коллег, делающих выгрузку."
   ]
  },
  {
   "cell_type": "markdown",
   "id": "6b73d2da",
   "metadata": {
    "deletable": false,
    "editable": false,
    "id": "89da5ece"
   },
   "source": [
    "### Обработка аномальных значений"
   ]
  },
  {
   "cell_type": "markdown",
   "id": "9c8d6673",
   "metadata": {
    "deletable": false,
    "editable": false,
    "id": "57964554"
   },
   "source": [
    "**Задание 6. В данных могут встречаться артефакты (аномалии) — значения, которые не отражают действительность и появились по какой-то ошибке. таким артефактом будет отрицательное количество дней трудового стажа в столбце `days_employed`. Для реальных данных это нормально. Обработайте значения в этом столбце: замените все отрицательные значения положительными с помощью метода `abs()`.**"
   ]
  },
  {
   "cell_type": "code",
   "execution_count": 6,
   "id": "fd0da632",
   "metadata": {
    "deletable": false,
    "id": "f6f055bf"
   },
   "outputs": [],
   "source": [
    "data['days_employed'] = data['days_employed'].abs()"
   ]
  },
  {
   "cell_type": "code",
   "execution_count": 7,
   "id": "c7ffd0bd",
   "metadata": {},
   "outputs": [
    {
     "data": {
      "text/plain": [
       "0          8437.673028\n",
       "1          4024.803754\n",
       "2          5623.422610\n",
       "3          4124.747207\n",
       "4        340266.072047\n",
       "             ...      \n",
       "21520      4529.316663\n",
       "21521    343937.404131\n",
       "21522      2113.346888\n",
       "21523      3112.481705\n",
       "21524      1984.507589\n",
       "Name: days_employed, Length: 21525, dtype: float64"
      ]
     },
     "execution_count": 7,
     "metadata": {},
     "output_type": "execute_result"
    }
   ],
   "source": [
    "data['days_employed']"
   ]
  },
  {
   "cell_type": "markdown",
   "id": "55997cab",
   "metadata": {},
   "source": [
    "**Комментарии:**  \n",
    "Функция abs() возвращает абсолютную величину (неотрицательное значение), переданное ей в качестве аргумента. Все значения стали положительными."
   ]
  },
  {
   "cell_type": "markdown",
   "id": "59de9777",
   "metadata": {
    "deletable": false,
    "editable": false,
    "id": "6107dd2f"
   },
   "source": [
    "**Задание 7. Для каждого типа занятости выведите медианное значение трудового стажа `days_employed` в днях.**"
   ]
  },
  {
   "cell_type": "code",
   "execution_count": 8,
   "id": "2fa5319e",
   "metadata": {
    "deletable": false,
    "id": "85a5faf6",
    "outputId": "801ef80e-522b-4668-f34e-565af7432bcf"
   },
   "outputs": [
    {
     "data": {
      "text/plain": [
       "income_type\n",
       "безработный        366413.652744\n",
       "в декрете            3296.759962\n",
       "госслужащий          2689.368353\n",
       "компаньон            1547.382223\n",
       "пенсионер          365213.306266\n",
       "предприниматель       520.848083\n",
       "сотрудник            1574.202821\n",
       "студент               578.751554\n",
       "Name: days_employed, dtype: float64"
      ]
     },
     "execution_count": 8,
     "metadata": {},
     "output_type": "execute_result"
    }
   ],
   "source": [
    "data.groupby('income_type')['days_employed'].agg('median')"
   ]
  },
  {
   "cell_type": "markdown",
   "id": "36ab3555",
   "metadata": {
    "deletable": false,
    "editable": false,
    "id": "38d1a030"
   },
   "source": [
    "У двух типов (безработные и пенсионеры) получатся аномально большие значения. Исправить такие значения сложно, поэтому оставьте их как есть. Тем более этот столбец не понадобится вам для исследования."
   ]
  },
  {
   "cell_type": "markdown",
   "id": "eae80b88",
   "metadata": {},
   "source": [
    "**Комментарии:**  \n",
    "Имеет смысл либо исключить аномальные значения, либо привести их в соответствие с общей моделью данных, чтобы они не влияли на результаты анализа. В нашем исследовании данные о трудовом стаже существенной роли не играют, поэтому мы опускаем этот момент.\n",
    "\n",
    "Однако, с точки зрения руководства кредитного учреждения, обнаруженные аномальные значения действительно искажают информацию об исследуемом бизнес-процессе и могут повлиять на качество модели и достоверность результатов анализа, необходимо выполнить их корректировку.\n",
    "Например, лица, взявшие большой кредит, могут быть либо перспективными клиентами, к которым нужен особый подход (например, специальные условия кредитования), чтобы повысить их лояльность к банку, либо мошенниками."
   ]
  },
  {
   "cell_type": "markdown",
   "id": "dddc26b1",
   "metadata": {
    "deletable": false,
    "editable": false,
    "id": "d8a9f147"
   },
   "source": [
    "**Задание 8. Выведите перечень уникальных значений столбца `children`.**"
   ]
  },
  {
   "cell_type": "code",
   "execution_count": 9,
   "id": "8efb2d29",
   "metadata": {
    "deletable": false,
    "id": "ef5056eb",
    "outputId": "6975b15c-7f95-4697-d16d-a0c79b657b03",
    "scrolled": false
   },
   "outputs": [
    {
     "data": {
      "text/plain": [
       "array([ 1,  0,  3,  2, -1,  4, 20,  5], dtype=int64)"
      ]
     },
     "execution_count": 9,
     "metadata": {},
     "output_type": "execute_result"
    }
   ],
   "source": [
    "data['children'].unique()"
   ]
  },
  {
   "cell_type": "markdown",
   "id": "9f775f89",
   "metadata": {},
   "source": [
    "**Комментарии:**  \n",
    "Столбец 'children' содержит значения -1 и 20, которые сильно выделяются на фоне остальной выборки. Отрицательного значения в графе кол-во детей не может быть, также как и странно выглядит число 20, если конечно речь не идет об уникальном случае."
   ]
  },
  {
   "cell_type": "markdown",
   "id": "227ee6ba",
   "metadata": {
    "deletable": false,
    "editable": false,
    "id": "40b9ebf2"
   },
   "source": [
    "**Задание 9. В столбце `children` есть два аномальных значения. Удалите строки, в которых встречаются такие аномальные значения из датафрейма `data`.**"
   ]
  },
  {
   "cell_type": "code",
   "execution_count": 10,
   "id": "d3140d78",
   "metadata": {
    "deletable": false,
    "id": "3ff9801d"
   },
   "outputs": [],
   "source": [
    "data = data[(data['children'] != -1) & (data['children'] != 20)]"
   ]
  },
  {
   "cell_type": "markdown",
   "id": "817d8581",
   "metadata": {},
   "source": [
    "**Комментарии:**  \n",
    "В данных встречаются аномалии, о которых нам следует предупредить тех, кто занимается выгрузкой данных.\n"
   ]
  },
  {
   "cell_type": "markdown",
   "id": "8ca94cee",
   "metadata": {
    "deletable": false,
    "editable": false,
    "id": "bbc4d0ce"
   },
   "source": [
    "**Задание 10. Ещё раз выведите перечень уникальных значений столбца `children`, чтобы убедиться, что артефакты удалены.**"
   ]
  },
  {
   "cell_type": "code",
   "execution_count": 11,
   "id": "6b318856",
   "metadata": {
    "deletable": false,
    "id": "ad4fa8b7",
    "outputId": "b2097101-d49d-44d9-901b-32a65c9463d1",
    "scrolled": true
   },
   "outputs": [
    {
     "data": {
      "text/plain": [
       "array([1, 0, 3, 2, 4, 5], dtype=int64)"
      ]
     },
     "execution_count": 11,
     "metadata": {},
     "output_type": "execute_result"
    }
   ],
   "source": [
    "data['children'].unique()"
   ]
  },
  {
   "cell_type": "markdown",
   "id": "f934f6d9",
   "metadata": {
    "deletable": false,
    "editable": false,
    "id": "75440b63"
   },
   "source": [
    "### Удаление пропусков (продолжение)"
   ]
  },
  {
   "cell_type": "markdown",
   "id": "c530f2d8",
   "metadata": {
    "deletable": false,
    "editable": false,
    "id": "f4ea573f"
   },
   "source": [
    "**Задание 11. Заполните пропуски в столбце `days_employed` медианными значениями по каждого типа занятости `income_type`.**"
   ]
  },
  {
   "cell_type": "code",
   "execution_count": 12,
   "id": "585fff7f",
   "metadata": {
    "deletable": false,
    "id": "af6b1a7e"
   },
   "outputs": [],
   "source": [
    "for t in data['income_type'].unique():\n",
    "    data.loc[(data['income_type'] == t) & (data['days_employed'].isna()), 'days_employed'] = \\\n",
    "    data.loc[(data['income_type'] == t), 'days_employed'].median()"
   ]
  },
  {
   "cell_type": "markdown",
   "id": "db8a54a9",
   "metadata": {},
   "source": [
    "**Комментарии:**  \n",
    "Вероятно, что пропуски в данных столбца 'days_employed' могли появиться по нескольким причинам:\n",
    "1. Человеческий фактор, ошибка специалиста банка.\n",
    "2. Клиенты при заполнении документов не указывали свой трудовой стаж."
   ]
  },
  {
   "cell_type": "markdown",
   "id": "ba4720c5",
   "metadata": {
    "deletable": false,
    "editable": false,
    "id": "2753f40d"
   },
   "source": [
    "**Задание 12. Убедитесь, что все пропуски заполнены. Проверьте себя и ещё раз выведите количество пропущенных значений для каждого столбца с помощью двух методов.**"
   ]
  },
  {
   "cell_type": "code",
   "execution_count": 13,
   "id": "79ecc83c",
   "metadata": {
    "deletable": false,
    "id": "55f78bc2",
    "outputId": "8da1e4e1-358e-4e87-98c9-f261bce0a7b2"
   },
   "outputs": [
    {
     "data": {
      "text/plain": [
       "children            0\n",
       "days_employed       0\n",
       "dob_years           0\n",
       "education           0\n",
       "education_id        0\n",
       "family_status       0\n",
       "family_status_id    0\n",
       "gender              0\n",
       "income_type         0\n",
       "debt                0\n",
       "total_income        0\n",
       "purpose             0\n",
       "dtype: int64"
      ]
     },
     "execution_count": 13,
     "metadata": {},
     "output_type": "execute_result"
    }
   ],
   "source": [
    "data.isna().sum()"
   ]
  },
  {
   "cell_type": "markdown",
   "id": "edb4f370",
   "metadata": {
    "deletable": false,
    "editable": false,
    "id": "ddc81e43"
   },
   "source": [
    "### Изменение типов данных"
   ]
  },
  {
   "cell_type": "markdown",
   "id": "2bd36971",
   "metadata": {
    "deletable": false,
    "editable": false,
    "id": "42d19d24"
   },
   "source": [
    "**Задание 13. Замените вещественный тип данных в столбце `total_income` на целочисленный с помощью метода `astype()`.**"
   ]
  },
  {
   "cell_type": "code",
   "execution_count": 14,
   "id": "66fe4065",
   "metadata": {
    "deletable": false,
    "id": "920b65ad"
   },
   "outputs": [],
   "source": [
    "data['total_income'] = data['total_income'].astype(int)"
   ]
  },
  {
   "cell_type": "code",
   "execution_count": 15,
   "id": "86a42218",
   "metadata": {},
   "outputs": [
    {
     "data": {
      "text/plain": [
       "children              int64\n",
       "days_employed       float64\n",
       "dob_years             int64\n",
       "education            object\n",
       "education_id          int64\n",
       "family_status        object\n",
       "family_status_id      int64\n",
       "gender               object\n",
       "income_type          object\n",
       "debt                  int64\n",
       "total_income          int32\n",
       "purpose              object\n",
       "dtype: object"
      ]
     },
     "execution_count": 15,
     "metadata": {},
     "output_type": "execute_result"
    }
   ],
   "source": [
    "data.dtypes"
   ]
  },
  {
   "cell_type": "markdown",
   "id": "0abe8a80",
   "metadata": {},
   "source": [
    "**Комментарии:**  \n",
    "Тип данных в столбце 'total_income' скорректирован в удобный для анализа формат int (целочисленные значения). Остальные данные необходимые для проверки гипотез представлены в удобном для работы формате."
   ]
  },
  {
   "cell_type": "markdown",
   "id": "2216ecbb",
   "metadata": {
    "deletable": false,
    "editable": false,
    "id": "80c420ba"
   },
   "source": [
    "### Обработка дубликатов"
   ]
  },
  {
   "cell_type": "markdown",
   "id": "f9e40d7a",
   "metadata": {
    "deletable": false,
    "editable": false
   },
   "source": [
    "**Задание 14. Обработайте неявные дубликаты в столбце `education`. В этом столбце есть одни и те же значения, но записанные по-разному: с использованием заглавных и строчных букв. Приведите их к нижнему регистру. Проверьте остальные столбцы.**"
   ]
  },
  {
   "cell_type": "code",
   "execution_count": 16,
   "id": "c4afb419",
   "metadata": {
    "deletable": false
   },
   "outputs": [],
   "source": [
    "data['education'] = data['education'].str.lower()"
   ]
  },
  {
   "cell_type": "code",
   "execution_count": 17,
   "id": "7925ec06",
   "metadata": {},
   "outputs": [],
   "source": [
    "data['gender'] = data['gender'].str.lower()"
   ]
  },
  {
   "cell_type": "code",
   "execution_count": 18,
   "id": "58b249a1",
   "metadata": {
    "scrolled": false
   },
   "outputs": [
    {
     "data": {
      "text/plain": [
       "0        False\n",
       "1        False\n",
       "2        False\n",
       "3        False\n",
       "4        False\n",
       "         ...  \n",
       "21520    False\n",
       "21521    False\n",
       "21522    False\n",
       "21523    False\n",
       "21524    False\n",
       "Name: purpose, Length: 21402, dtype: bool"
      ]
     },
     "execution_count": 18,
     "metadata": {},
     "output_type": "execute_result"
    }
   ],
   "source": [
    "#data['family_status'].str.isupper()\n",
    "data['purpose'].str.isupper()"
   ]
  },
  {
   "cell_type": "markdown",
   "id": "7a177741",
   "metadata": {},
   "source": [
    "**Комментарии:**  \n",
    "Значения в столбцах 'education' и 'gender' приведены к нижнему регистру.  \n",
    "Остальные данные в столбцах с типом данных object также в нижнем регистре, что делает вид таблицы более лаконичным.  \n",
    "Для проверки использовался метод str.isupper(), который возвращает True, если все символы в строке str прописные (имеют верхний регистр), при этом строка не должна быть пустой, то есть должна иметь хотя бы один символ в верхнем регистре и не состоять из одних пробелов."
   ]
  },
  {
   "cell_type": "markdown",
   "id": "c68f5cb4",
   "metadata": {
    "deletable": false,
    "editable": false,
    "id": "dc587695"
   },
   "source": [
    "**Задание 15. Выведите на экран количество строк-дубликатов в данных. Если такие строки присутствуют, удалите их.**"
   ]
  },
  {
   "cell_type": "code",
   "execution_count": 19,
   "id": "cf788ad1",
   "metadata": {
    "deletable": false,
    "id": "3ee445e4",
    "outputId": "9684deba-1934-42d1-99e1-cda61740f822"
   },
   "outputs": [
    {
     "data": {
      "text/plain": [
       "71"
      ]
     },
     "execution_count": 19,
     "metadata": {},
     "output_type": "execute_result"
    }
   ],
   "source": [
    "data.duplicated().sum()"
   ]
  },
  {
   "cell_type": "code",
   "execution_count": 20,
   "id": "29ed621b",
   "metadata": {
    "deletable": false,
    "id": "8575fe05"
   },
   "outputs": [],
   "source": [
    "data = data.drop_duplicates()"
   ]
  },
  {
   "cell_type": "code",
   "execution_count": 21,
   "id": "8de24baf",
   "metadata": {},
   "outputs": [
    {
     "data": {
      "text/plain": [
       "0"
      ]
     },
     "execution_count": 21,
     "metadata": {},
     "output_type": "execute_result"
    }
   ],
   "source": [
    "data.duplicated().sum()"
   ]
  },
  {
   "cell_type": "markdown",
   "id": "22d19a6b",
   "metadata": {},
   "source": [
    "**Комментарии:**  \n",
    "Почистили датафрейм от дубликатов - найден и удален 71 дубликат.\n",
    "\n",
    "Для нахождения дубликатов применен метод duplicated() совместно с методом sum() для определения количества дубликатов. Для удаления дубликатов используется метод drop_duplicates()."
   ]
  },
  {
   "cell_type": "markdown",
   "id": "0b2434fb",
   "metadata": {
    "deletable": false,
    "editable": false,
    "id": "9904cf55"
   },
   "source": [
    "### Категоризация данных"
   ]
  },
  {
   "cell_type": "markdown",
   "id": "c3a442f4",
   "metadata": {
    "deletable": false,
    "editable": false,
    "id": "72fcc8a2"
   },
   "source": [
    "**Задание 16. На основании диапазонов, указанных ниже, создайте в датафрейме `data` столбец `total_income_category` с категориями:**\n",
    "\n",
    "- 0–30000 — `'E'`;\n",
    "- 30001–50000 — `'D'`;\n",
    "- 50001–200000 — `'C'`;\n",
    "- 200001–1000000 — `'B'`;\n",
    "- 1000001 и выше — `'A'`.\n",
    "\n",
    "\n",
    "**Например, кредитополучателю с доходом 25000 нужно назначить категорию `'E'`, а клиенту, получающему 235000, — `'B'`. Используйте собственную функцию с именем `categorize_income()` и метод `apply()`.**"
   ]
  },
  {
   "cell_type": "code",
   "execution_count": 22,
   "id": "c3e1de2d",
   "metadata": {
    "deletable": false,
    "id": "e1771346"
   },
   "outputs": [],
   "source": [
    "def categorize_income(row):\n",
    "    income = row['total_income']\n",
    "    if 0 <= income <= 30000:\n",
    "        return 'низкий'\n",
    "    elif 30001 <= income <= 50000:\n",
    "        return 'средний'\n",
    "    elif 50001 <= income <= 200000:\n",
    "        return 'выше среднего'\n",
    "    elif 200001 <= income <= 1000000:\n",
    "        return 'высокий'\n",
    "    elif income >= 1000001:\n",
    "        return 'очень высокий'"
   ]
  },
  {
   "cell_type": "code",
   "execution_count": 23,
   "id": "190074f7",
   "metadata": {
    "deletable": false,
    "id": "d5f3586d"
   },
   "outputs": [],
   "source": [
    "data['total_income_category'] = data.apply(categorize_income, axis=1)"
   ]
  },
  {
   "cell_type": "code",
   "execution_count": 24,
   "id": "186af7c6",
   "metadata": {
    "scrolled": false
   },
   "outputs": [
    {
     "data": {
      "text/plain": [
       "выше среднего    15921\n",
       "высокий           5014\n",
       "средний            349\n",
       "очень высокий       25\n",
       "низкий              22\n",
       "Name: total_income_category, dtype: int64"
      ]
     },
     "execution_count": 24,
     "metadata": {},
     "output_type": "execute_result"
    }
   ],
   "source": [
    "data['total_income_category'].value_counts()"
   ]
  },
  {
   "cell_type": "code",
   "execution_count": 25,
   "id": "b8e07593",
   "metadata": {},
   "outputs": [
    {
     "data": {
      "text/html": [
       "<div>\n",
       "<style scoped>\n",
       "    .dataframe tbody tr th:only-of-type {\n",
       "        vertical-align: middle;\n",
       "    }\n",
       "\n",
       "    .dataframe tbody tr th {\n",
       "        vertical-align: top;\n",
       "    }\n",
       "\n",
       "    .dataframe thead th {\n",
       "        text-align: right;\n",
       "    }\n",
       "</style>\n",
       "<table border=\"1\" class=\"dataframe\">\n",
       "  <thead>\n",
       "    <tr style=\"text-align: right;\">\n",
       "      <th></th>\n",
       "      <th>children</th>\n",
       "      <th>days_employed</th>\n",
       "      <th>dob_years</th>\n",
       "      <th>education</th>\n",
       "      <th>education_id</th>\n",
       "      <th>family_status</th>\n",
       "      <th>family_status_id</th>\n",
       "      <th>gender</th>\n",
       "      <th>income_type</th>\n",
       "      <th>debt</th>\n",
       "      <th>total_income</th>\n",
       "      <th>purpose</th>\n",
       "      <th>total_income_category</th>\n",
       "    </tr>\n",
       "  </thead>\n",
       "  <tbody>\n",
       "    <tr>\n",
       "      <th>0</th>\n",
       "      <td>1</td>\n",
       "      <td>8437.673028</td>\n",
       "      <td>42</td>\n",
       "      <td>высшее</td>\n",
       "      <td>0</td>\n",
       "      <td>женат / замужем</td>\n",
       "      <td>0</td>\n",
       "      <td>f</td>\n",
       "      <td>сотрудник</td>\n",
       "      <td>0</td>\n",
       "      <td>253875</td>\n",
       "      <td>покупка жилья</td>\n",
       "      <td>высокий</td>\n",
       "    </tr>\n",
       "    <tr>\n",
       "      <th>1</th>\n",
       "      <td>1</td>\n",
       "      <td>4024.803754</td>\n",
       "      <td>36</td>\n",
       "      <td>среднее</td>\n",
       "      <td>1</td>\n",
       "      <td>женат / замужем</td>\n",
       "      <td>0</td>\n",
       "      <td>f</td>\n",
       "      <td>сотрудник</td>\n",
       "      <td>0</td>\n",
       "      <td>112080</td>\n",
       "      <td>приобретение автомобиля</td>\n",
       "      <td>выше среднего</td>\n",
       "    </tr>\n",
       "    <tr>\n",
       "      <th>2</th>\n",
       "      <td>0</td>\n",
       "      <td>5623.422610</td>\n",
       "      <td>33</td>\n",
       "      <td>среднее</td>\n",
       "      <td>1</td>\n",
       "      <td>женат / замужем</td>\n",
       "      <td>0</td>\n",
       "      <td>m</td>\n",
       "      <td>сотрудник</td>\n",
       "      <td>0</td>\n",
       "      <td>145885</td>\n",
       "      <td>покупка жилья</td>\n",
       "      <td>выше среднего</td>\n",
       "    </tr>\n",
       "    <tr>\n",
       "      <th>3</th>\n",
       "      <td>3</td>\n",
       "      <td>4124.747207</td>\n",
       "      <td>32</td>\n",
       "      <td>среднее</td>\n",
       "      <td>1</td>\n",
       "      <td>женат / замужем</td>\n",
       "      <td>0</td>\n",
       "      <td>m</td>\n",
       "      <td>сотрудник</td>\n",
       "      <td>0</td>\n",
       "      <td>267628</td>\n",
       "      <td>дополнительное образование</td>\n",
       "      <td>высокий</td>\n",
       "    </tr>\n",
       "    <tr>\n",
       "      <th>4</th>\n",
       "      <td>0</td>\n",
       "      <td>340266.072047</td>\n",
       "      <td>53</td>\n",
       "      <td>среднее</td>\n",
       "      <td>1</td>\n",
       "      <td>гражданский брак</td>\n",
       "      <td>1</td>\n",
       "      <td>f</td>\n",
       "      <td>пенсионер</td>\n",
       "      <td>0</td>\n",
       "      <td>158616</td>\n",
       "      <td>сыграть свадьбу</td>\n",
       "      <td>выше среднего</td>\n",
       "    </tr>\n",
       "    <tr>\n",
       "      <th>...</th>\n",
       "      <td>...</td>\n",
       "      <td>...</td>\n",
       "      <td>...</td>\n",
       "      <td>...</td>\n",
       "      <td>...</td>\n",
       "      <td>...</td>\n",
       "      <td>...</td>\n",
       "      <td>...</td>\n",
       "      <td>...</td>\n",
       "      <td>...</td>\n",
       "      <td>...</td>\n",
       "      <td>...</td>\n",
       "      <td>...</td>\n",
       "    </tr>\n",
       "    <tr>\n",
       "      <th>21520</th>\n",
       "      <td>1</td>\n",
       "      <td>4529.316663</td>\n",
       "      <td>43</td>\n",
       "      <td>среднее</td>\n",
       "      <td>1</td>\n",
       "      <td>гражданский брак</td>\n",
       "      <td>1</td>\n",
       "      <td>f</td>\n",
       "      <td>компаньон</td>\n",
       "      <td>0</td>\n",
       "      <td>224791</td>\n",
       "      <td>операции с жильем</td>\n",
       "      <td>высокий</td>\n",
       "    </tr>\n",
       "    <tr>\n",
       "      <th>21521</th>\n",
       "      <td>0</td>\n",
       "      <td>343937.404131</td>\n",
       "      <td>67</td>\n",
       "      <td>среднее</td>\n",
       "      <td>1</td>\n",
       "      <td>женат / замужем</td>\n",
       "      <td>0</td>\n",
       "      <td>f</td>\n",
       "      <td>пенсионер</td>\n",
       "      <td>0</td>\n",
       "      <td>155999</td>\n",
       "      <td>сделка с автомобилем</td>\n",
       "      <td>выше среднего</td>\n",
       "    </tr>\n",
       "    <tr>\n",
       "      <th>21522</th>\n",
       "      <td>1</td>\n",
       "      <td>2113.346888</td>\n",
       "      <td>38</td>\n",
       "      <td>среднее</td>\n",
       "      <td>1</td>\n",
       "      <td>гражданский брак</td>\n",
       "      <td>1</td>\n",
       "      <td>m</td>\n",
       "      <td>сотрудник</td>\n",
       "      <td>1</td>\n",
       "      <td>89672</td>\n",
       "      <td>недвижимость</td>\n",
       "      <td>выше среднего</td>\n",
       "    </tr>\n",
       "    <tr>\n",
       "      <th>21523</th>\n",
       "      <td>3</td>\n",
       "      <td>3112.481705</td>\n",
       "      <td>38</td>\n",
       "      <td>среднее</td>\n",
       "      <td>1</td>\n",
       "      <td>женат / замужем</td>\n",
       "      <td>0</td>\n",
       "      <td>m</td>\n",
       "      <td>сотрудник</td>\n",
       "      <td>1</td>\n",
       "      <td>244093</td>\n",
       "      <td>на покупку своего автомобиля</td>\n",
       "      <td>высокий</td>\n",
       "    </tr>\n",
       "    <tr>\n",
       "      <th>21524</th>\n",
       "      <td>2</td>\n",
       "      <td>1984.507589</td>\n",
       "      <td>40</td>\n",
       "      <td>среднее</td>\n",
       "      <td>1</td>\n",
       "      <td>женат / замужем</td>\n",
       "      <td>0</td>\n",
       "      <td>f</td>\n",
       "      <td>сотрудник</td>\n",
       "      <td>0</td>\n",
       "      <td>82047</td>\n",
       "      <td>на покупку автомобиля</td>\n",
       "      <td>выше среднего</td>\n",
       "    </tr>\n",
       "  </tbody>\n",
       "</table>\n",
       "<p>21331 rows × 13 columns</p>\n",
       "</div>"
      ],
      "text/plain": [
       "       children  days_employed  dob_years education  education_id  \\\n",
       "0             1    8437.673028         42    высшее             0   \n",
       "1             1    4024.803754         36   среднее             1   \n",
       "2             0    5623.422610         33   среднее             1   \n",
       "3             3    4124.747207         32   среднее             1   \n",
       "4             0  340266.072047         53   среднее             1   \n",
       "...         ...            ...        ...       ...           ...   \n",
       "21520         1    4529.316663         43   среднее             1   \n",
       "21521         0  343937.404131         67   среднее             1   \n",
       "21522         1    2113.346888         38   среднее             1   \n",
       "21523         3    3112.481705         38   среднее             1   \n",
       "21524         2    1984.507589         40   среднее             1   \n",
       "\n",
       "          family_status  family_status_id gender income_type  debt  \\\n",
       "0       женат / замужем                 0      f   сотрудник     0   \n",
       "1       женат / замужем                 0      f   сотрудник     0   \n",
       "2       женат / замужем                 0      m   сотрудник     0   \n",
       "3       женат / замужем                 0      m   сотрудник     0   \n",
       "4      гражданский брак                 1      f   пенсионер     0   \n",
       "...                 ...               ...    ...         ...   ...   \n",
       "21520  гражданский брак                 1      f   компаньон     0   \n",
       "21521   женат / замужем                 0      f   пенсионер     0   \n",
       "21522  гражданский брак                 1      m   сотрудник     1   \n",
       "21523   женат / замужем                 0      m   сотрудник     1   \n",
       "21524   женат / замужем                 0      f   сотрудник     0   \n",
       "\n",
       "       total_income                       purpose total_income_category  \n",
       "0            253875                 покупка жилья               высокий  \n",
       "1            112080       приобретение автомобиля         выше среднего  \n",
       "2            145885                 покупка жилья         выше среднего  \n",
       "3            267628    дополнительное образование               высокий  \n",
       "4            158616               сыграть свадьбу         выше среднего  \n",
       "...             ...                           ...                   ...  \n",
       "21520        224791             операции с жильем               высокий  \n",
       "21521        155999          сделка с автомобилем         выше среднего  \n",
       "21522         89672                  недвижимость         выше среднего  \n",
       "21523        244093  на покупку своего автомобиля               высокий  \n",
       "21524         82047         на покупку автомобиля         выше среднего  \n",
       "\n",
       "[21331 rows x 13 columns]"
      ]
     },
     "execution_count": 25,
     "metadata": {},
     "output_type": "execute_result"
    }
   ],
   "source": [
    "data"
   ]
  },
  {
   "cell_type": "markdown",
   "id": "2c653a31",
   "metadata": {},
   "source": [
    "**Комментарии:**  \n",
    "Выполнила оценку платежеспособности клиентов по уровню дохода, присвоила категории, которые будут более удобны для анализа данных по аналогии с классификацией стран по уровню доходов МБРР (низкий, средний, выше среднего, высокий, очень низкий) и вынесла в отдельный столбец 'total_income_category'.  \n",
    "Из полученной сводки можно сделать небольшой вывод о том, что кредитные продукты мало интересуют 2 категории граждан: с самым низким доходом - меньше 30 тыс. и с самым высоким доходом - выше 1 млн."
   ]
  },
  {
   "cell_type": "markdown",
   "id": "93d1e6c6",
   "metadata": {
    "deletable": false,
    "editable": false,
    "id": "dde49b5c"
   },
   "source": [
    "**Задание 17. Выведите на экран перечень уникальных целей взятия кредита из столбца `purpose`.**"
   ]
  },
  {
   "cell_type": "code",
   "execution_count": 26,
   "id": "6923de2f",
   "metadata": {
    "deletable": false,
    "id": "f67ce9b3",
    "outputId": "673c12d9-7d7e-4ae0-9812-c622c89dd244",
    "scrolled": true
   },
   "outputs": [
    {
     "data": {
      "text/plain": [
       "array(['покупка жилья', 'приобретение автомобиля',\n",
       "       'дополнительное образование', 'сыграть свадьбу',\n",
       "       'операции с жильем', 'образование', 'на проведение свадьбы',\n",
       "       'покупка жилья для семьи', 'покупка недвижимости',\n",
       "       'покупка коммерческой недвижимости', 'покупка жилой недвижимости',\n",
       "       'строительство собственной недвижимости', 'недвижимость',\n",
       "       'строительство недвижимости', 'на покупку подержанного автомобиля',\n",
       "       'на покупку своего автомобиля',\n",
       "       'операции с коммерческой недвижимостью',\n",
       "       'строительство жилой недвижимости', 'жилье',\n",
       "       'операции со своей недвижимостью', 'автомобили',\n",
       "       'заняться образованием', 'сделка с подержанным автомобилем',\n",
       "       'получение образования', 'автомобиль', 'свадьба',\n",
       "       'получение дополнительного образования', 'покупка своего жилья',\n",
       "       'операции с недвижимостью', 'получение высшего образования',\n",
       "       'свой автомобиль', 'сделка с автомобилем',\n",
       "       'профильное образование', 'высшее образование',\n",
       "       'покупка жилья для сдачи', 'на покупку автомобиля', 'ремонт жилью',\n",
       "       'заняться высшим образованием'], dtype=object)"
      ]
     },
     "execution_count": 26,
     "metadata": {},
     "output_type": "execute_result"
    }
   ],
   "source": [
    "data['purpose'].unique()"
   ]
  },
  {
   "cell_type": "markdown",
   "id": "d4ad889d",
   "metadata": {},
   "source": [
    "**Комментарии:**  \n",
    "В датафрейме есть столбец 'purpose' с информацией о целях кредитования. В нем содержится много схожих по смыслу целей, которые можно выделить в отдельные 4 категории."
   ]
  },
  {
   "cell_type": "markdown",
   "id": "cac6666d",
   "metadata": {
    "deletable": false,
    "editable": false,
    "id": "85d0aef0"
   },
   "source": [
    "**Задание 18. Создайте функцию, которая на основании данных из столбца `purpose` сформирует новый столбец `purpose_category`, в который войдут следующие категории:**\n",
    "\n",
    "- `'операции с автомобилем'`,\n",
    "- `'операции с недвижимостью'`,\n",
    "- `'проведение свадьбы'`,\n",
    "- `'получение образования'`.\n",
    "\n",
    "**Например, если в столбце `purpose` находится подстрока `'на покупку автомобиля'`, то в столбце `purpose_category` должна появиться строка `'операции с автомобилем'`.**\n",
    "\n",
    "**Используйте собственную функцию с именем `categorize_purpose()` и метод `apply()`. Изучите данные в столбце `purpose` и определите, какие подстроки помогут вам правильно определить категорию.**"
   ]
  },
  {
   "cell_type": "code",
   "execution_count": 27,
   "id": "6845bede",
   "metadata": {
    "deletable": false,
    "id": "e149fab4"
   },
   "outputs": [],
   "source": [
    "def categorize_purpose(row):\n",
    "    if 'авто' in row:\n",
    "        return 'операции с автомобилем'\n",
    "    elif 'образован' in row:\n",
    "        return 'получение образования'\n",
    "    elif 'свадь' in row:\n",
    "        return 'проведение свадьбы'\n",
    "    elif \"недвижим\" in row:\n",
    "        return 'операции с недвижимостью'\n",
    "    elif 'жиль' in row:\n",
    "        return 'операции с недвижимостью'"
   ]
  },
  {
   "cell_type": "code",
   "execution_count": 28,
   "id": "a112e477",
   "metadata": {
    "deletable": false,
    "id": "bf36e69b",
    "scrolled": true
   },
   "outputs": [
    {
     "data": {
      "text/plain": [
       "операции с недвижимостью    10751\n",
       "операции с автомобилем       4279\n",
       "получение образования        3988\n",
       "проведение свадьбы           2313\n",
       "Name: purpose_category, dtype: int64"
      ]
     },
     "execution_count": 28,
     "metadata": {},
     "output_type": "execute_result"
    }
   ],
   "source": [
    "data['purpose_category'] = data['purpose'].apply(categorize_purpose)\n",
    "data['purpose_category'].value_counts()"
   ]
  },
  {
   "cell_type": "code",
   "execution_count": 29,
   "id": "c98478bd",
   "metadata": {},
   "outputs": [],
   "source": [
    "#data['purpose_category'].value_counts().sum()\n",
    "#10751/21331*100"
   ]
  },
  {
   "cell_type": "markdown",
   "id": "bcc1b6aa",
   "metadata": {},
   "source": [
    "**Комментарии:**\n",
    "1. Получили краткий список целей кредитования, сократив его до 4 категорий.\n",
    "2. Большей популярностью пользуются кредиты, связанные с недвижимостью их доля от общего числа составляет более 50%."
   ]
  },
  {
   "cell_type": "markdown",
   "id": "0eb815ac",
   "metadata": {
    "deletable": false,
    "editable": false,
    "id": "09b242bf"
   },
   "source": [
    "### Шаг 3. Исследуйте данные и ответьте на вопросы"
   ]
  },
  {
   "cell_type": "code",
   "execution_count": 30,
   "id": "e32626b8",
   "metadata": {},
   "outputs": [],
   "source": [
    "# функция для расчета отношения в %, для ответов на последующие вопросы исследования\n",
    "def percentage_ratio(pdSerises):\n",
    "    return str(round((pdSerises.sum() / pdSerises.count()) * 100, 2)) + '%'"
   ]
  },
  {
   "cell_type": "markdown",
   "id": "cde7a9eb",
   "metadata": {
    "deletable": false,
    "editable": false,
    "id": "c5d66278"
   },
   "source": [
    "#### 3.1 Есть ли зависимость между количеством детей и возвратом кредита в срок?"
   ]
  },
  {
   "cell_type": "code",
   "execution_count": 31,
   "id": "e101cc77",
   "metadata": {
    "deletable": false,
    "id": "2cacfc4a"
   },
   "outputs": [],
   "source": [
    "# построим сводную таблицу для ответа на вопрос\n",
    "data_child = data.pivot_table(index=['children'], values=['debt'], aggfunc=['sum', 'count', percentage_ratio])"
   ]
  },
  {
   "cell_type": "code",
   "execution_count": 32,
   "id": "eb09974e",
   "metadata": {
    "scrolled": false
   },
   "outputs": [
    {
     "data": {
      "text/html": [
       "<div>\n",
       "<style scoped>\n",
       "    .dataframe tbody tr th:only-of-type {\n",
       "        vertical-align: middle;\n",
       "    }\n",
       "\n",
       "    .dataframe tbody tr th {\n",
       "        vertical-align: top;\n",
       "    }\n",
       "\n",
       "    .dataframe thead tr th {\n",
       "        text-align: left;\n",
       "    }\n",
       "\n",
       "    .dataframe thead tr:last-of-type th {\n",
       "        text-align: right;\n",
       "    }\n",
       "</style>\n",
       "<table border=\"1\" class=\"dataframe\">\n",
       "  <thead>\n",
       "    <tr>\n",
       "      <th></th>\n",
       "      <th>кол-во должников</th>\n",
       "      <th>кол-во заёмщиков</th>\n",
       "      <th>риск задолженности</th>\n",
       "    </tr>\n",
       "    <tr>\n",
       "      <th></th>\n",
       "      <th>debt</th>\n",
       "      <th>debt</th>\n",
       "      <th>debt</th>\n",
       "    </tr>\n",
       "    <tr>\n",
       "      <th>children</th>\n",
       "      <th></th>\n",
       "      <th></th>\n",
       "      <th></th>\n",
       "    </tr>\n",
       "  </thead>\n",
       "  <tbody>\n",
       "    <tr>\n",
       "      <th>5</th>\n",
       "      <td>0</td>\n",
       "      <td>9</td>\n",
       "      <td>0.0%</td>\n",
       "    </tr>\n",
       "    <tr>\n",
       "      <th>0</th>\n",
       "      <td>1063</td>\n",
       "      <td>14091</td>\n",
       "      <td>7.54%</td>\n",
       "    </tr>\n",
       "    <tr>\n",
       "      <th>3</th>\n",
       "      <td>27</td>\n",
       "      <td>330</td>\n",
       "      <td>8.18%</td>\n",
       "    </tr>\n",
       "    <tr>\n",
       "      <th>1</th>\n",
       "      <td>444</td>\n",
       "      <td>4808</td>\n",
       "      <td>9.23%</td>\n",
       "    </tr>\n",
       "    <tr>\n",
       "      <th>2</th>\n",
       "      <td>194</td>\n",
       "      <td>2052</td>\n",
       "      <td>9.45%</td>\n",
       "    </tr>\n",
       "    <tr>\n",
       "      <th>4</th>\n",
       "      <td>4</td>\n",
       "      <td>41</td>\n",
       "      <td>9.76%</td>\n",
       "    </tr>\n",
       "  </tbody>\n",
       "</table>\n",
       "</div>"
      ],
      "text/plain": [
       "         кол-во должников кол-во заёмщиков риск задолженности\n",
       "                     debt             debt               debt\n",
       "children                                                     \n",
       "5                       0                9               0.0%\n",
       "0                    1063            14091              7.54%\n",
       "3                      27              330              8.18%\n",
       "1                     444             4808              9.23%\n",
       "2                     194             2052              9.45%\n",
       "4                       4               41              9.76%"
      ]
     },
     "execution_count": 32,
     "metadata": {},
     "output_type": "execute_result"
    }
   ],
   "source": [
    "# отсортируем полученные данные и переименуем столбцы\n",
    "data_child = data_child.sort_values(by=('percentage_ratio', 'debt'))\n",
    "data_child = data_child.rename(columns={'sum': 'кол-во должников', 'count': 'кол-во заёмщиков', 'percentage_ratio': 'риск задолженности'})\n",
    "data_child"
   ]
  },
  {
   "cell_type": "code",
   "execution_count": 33,
   "id": "f9aea056",
   "metadata": {},
   "outputs": [],
   "source": [
    "#pd.DataFrame({'Кол-во детей и заемщиков':data['children'].value_counts()})"
   ]
  },
  {
   "cell_type": "markdown",
   "id": "8943e785",
   "metadata": {
    "deletable": false,
    "id": "3a6b99ec"
   },
   "source": [
    "**Комментарии:**    \n",
    "1. Вывели функцию для расчета отношения риска задолженности, он показывает отношение количества заёмщиков имеющих просрочки по оплатам кредитов к общему числу заёмщиков по категории.\n",
    "2. Построили сводную таблицу для категоризации заёмщиков по наличию/отсутствию детей.\n",
    "3. Отсортировали ее по возрастанию риска возникновения задолженности, чем меньше коэффициент, тем более 'надёжная' категория заёмщиков \n",
    "  \n",
    "На мой взгляд, связь между наличием детей и своевременным возвратом кредита слабая, однако риск возникновения задолженности **без детей** составляет **7,5%** против **9,2% с одним ребенком**.\n",
    "Самый высокий показатель риска для семей **с 4-мя детьми - 9,8%**. \n",
    "Это можно объяснить тем фактом, что семьи с детьми имеют более высокий уровень расходов"
   ]
  },
  {
   "cell_type": "markdown",
   "id": "7f6c501f",
   "metadata": {
    "deletable": false,
    "editable": false,
    "id": "97be82ca"
   },
   "source": [
    "#### 3.2 Есть ли зависимость между семейным положением и возвратом кредита в срок?"
   ]
  },
  {
   "cell_type": "code",
   "execution_count": 34,
   "id": "1e66ee46",
   "metadata": {
    "deletable": false,
    "id": "dc3f7ee8"
   },
   "outputs": [],
   "source": [
    "# построим сводную таблицу для ответа на вопрос\n",
    "data_family = data.pivot_table(index=['family_status'], values=['debt'], aggfunc=['sum', 'count', percentage_ratio])"
   ]
  },
  {
   "cell_type": "code",
   "execution_count": 35,
   "id": "f406d4e4",
   "metadata": {
    "scrolled": false
   },
   "outputs": [
    {
     "data": {
      "text/html": [
       "<div>\n",
       "<style scoped>\n",
       "    .dataframe tbody tr th:only-of-type {\n",
       "        vertical-align: middle;\n",
       "    }\n",
       "\n",
       "    .dataframe tbody tr th {\n",
       "        vertical-align: top;\n",
       "    }\n",
       "\n",
       "    .dataframe thead tr th {\n",
       "        text-align: left;\n",
       "    }\n",
       "\n",
       "    .dataframe thead tr:last-of-type th {\n",
       "        text-align: right;\n",
       "    }\n",
       "</style>\n",
       "<table border=\"1\" class=\"dataframe\">\n",
       "  <thead>\n",
       "    <tr>\n",
       "      <th></th>\n",
       "      <th>кол-во должников</th>\n",
       "      <th>кол-во заёмщиков</th>\n",
       "      <th>риск задолженности</th>\n",
       "    </tr>\n",
       "    <tr>\n",
       "      <th></th>\n",
       "      <th>debt</th>\n",
       "      <th>debt</th>\n",
       "      <th>debt</th>\n",
       "    </tr>\n",
       "    <tr>\n",
       "      <th>family_status</th>\n",
       "      <th></th>\n",
       "      <th></th>\n",
       "      <th></th>\n",
       "    </tr>\n",
       "  </thead>\n",
       "  <tbody>\n",
       "    <tr>\n",
       "      <th>вдовец / вдова</th>\n",
       "      <td>63</td>\n",
       "      <td>951</td>\n",
       "      <td>6.62%</td>\n",
       "    </tr>\n",
       "    <tr>\n",
       "      <th>в разводе</th>\n",
       "      <td>84</td>\n",
       "      <td>1189</td>\n",
       "      <td>7.06%</td>\n",
       "    </tr>\n",
       "    <tr>\n",
       "      <th>женат / замужем</th>\n",
       "      <td>927</td>\n",
       "      <td>12261</td>\n",
       "      <td>7.56%</td>\n",
       "    </tr>\n",
       "    <tr>\n",
       "      <th>гражданский брак</th>\n",
       "      <td>385</td>\n",
       "      <td>4134</td>\n",
       "      <td>9.31%</td>\n",
       "    </tr>\n",
       "    <tr>\n",
       "      <th>Не женат / не замужем</th>\n",
       "      <td>273</td>\n",
       "      <td>2796</td>\n",
       "      <td>9.76%</td>\n",
       "    </tr>\n",
       "  </tbody>\n",
       "</table>\n",
       "</div>"
      ],
      "text/plain": [
       "                      кол-во должников кол-во заёмщиков риск задолженности\n",
       "                                  debt             debt               debt\n",
       "family_status                                                             \n",
       "вдовец / вдова                      63              951              6.62%\n",
       "в разводе                           84             1189              7.06%\n",
       "женат / замужем                    927            12261              7.56%\n",
       "гражданский брак                   385             4134              9.31%\n",
       "Не женат / не замужем              273             2796              9.76%"
      ]
     },
     "execution_count": 35,
     "metadata": {},
     "output_type": "execute_result"
    }
   ],
   "source": [
    "# отсортируем полученные данные и переименуем столбцы\n",
    "data_family = data_family.sort_values(by=('percentage_ratio', 'debt'))\n",
    "data_family = data_family.rename(columns={'sum': 'кол-во должников', 'count': 'кол-во заёмщиков', 'percentage_ratio': 'риск задолженности'})\n",
    "data_family"
   ]
  },
  {
   "cell_type": "markdown",
   "id": "d5d705e6",
   "metadata": {
    "deletable": false,
    "id": "1cef7837"
   },
   "source": [
    "**Комментарии:**   \n",
    "1. Построили сводную таблицу для категоризации заёмщиков по семейному положению.\n",
    "2. Отсортировали ее по возрастанию риска возникновения задолженности, чем меньше коэффициент, тем более 'надёжная' категория заёмщиков.\n",
    "\n",
    "Согласно таблице, наибольший риск имеют категории заемщиков со статусами **'не женат/не замужем' - 9,8% и 'гражданский брак' - 9,3%**, а наименьший риск со статусом **'вдовец/вдова'**.  \n",
    "Возможно, что вдовцы и вдовы относятся к более взрослой/пожилой возрастной группе заемщиков, поэтому более осознанно относятся к совершаемым финансовым операциям, лучше планируют свои бюджеты."
   ]
  },
  {
   "cell_type": "markdown",
   "id": "171c8203",
   "metadata": {
    "deletable": false,
    "editable": false,
    "id": "1e8b2fca"
   },
   "source": [
    "#### 3.3 Есть ли зависимость между уровнем дохода и возвратом кредита в срок?"
   ]
  },
  {
   "cell_type": "code",
   "execution_count": 36,
   "id": "a0abc472",
   "metadata": {
    "deletable": false,
    "id": "cd7e3720",
    "scrolled": true
   },
   "outputs": [],
   "source": [
    "# построим сводную таблицу для ответа на вопрос\n",
    "data_total = data.pivot_table(index=['total_income_category'], values=['debt'], aggfunc=['sum', 'count', percentage_ratio])"
   ]
  },
  {
   "cell_type": "code",
   "execution_count": 37,
   "id": "767a16ec",
   "metadata": {},
   "outputs": [
    {
     "data": {
      "text/html": [
       "<div>\n",
       "<style scoped>\n",
       "    .dataframe tbody tr th:only-of-type {\n",
       "        vertical-align: middle;\n",
       "    }\n",
       "\n",
       "    .dataframe tbody tr th {\n",
       "        vertical-align: top;\n",
       "    }\n",
       "\n",
       "    .dataframe thead tr th {\n",
       "        text-align: left;\n",
       "    }\n",
       "\n",
       "    .dataframe thead tr:last-of-type th {\n",
       "        text-align: right;\n",
       "    }\n",
       "</style>\n",
       "<table border=\"1\" class=\"dataframe\">\n",
       "  <thead>\n",
       "    <tr>\n",
       "      <th></th>\n",
       "      <th>кол-во должников</th>\n",
       "      <th>кол-во заёмщиков</th>\n",
       "      <th>риск задолженности</th>\n",
       "    </tr>\n",
       "    <tr>\n",
       "      <th></th>\n",
       "      <th>debt</th>\n",
       "      <th>debt</th>\n",
       "      <th>debt</th>\n",
       "    </tr>\n",
       "    <tr>\n",
       "      <th>total_income_category</th>\n",
       "      <th></th>\n",
       "      <th></th>\n",
       "      <th></th>\n",
       "    </tr>\n",
       "  </thead>\n",
       "  <tbody>\n",
       "    <tr>\n",
       "      <th>средний</th>\n",
       "      <td>21</td>\n",
       "      <td>349</td>\n",
       "      <td>6.02%</td>\n",
       "    </tr>\n",
       "    <tr>\n",
       "      <th>высокий</th>\n",
       "      <td>354</td>\n",
       "      <td>5014</td>\n",
       "      <td>7.06%</td>\n",
       "    </tr>\n",
       "    <tr>\n",
       "      <th>очень высокий</th>\n",
       "      <td>2</td>\n",
       "      <td>25</td>\n",
       "      <td>8.0%</td>\n",
       "    </tr>\n",
       "    <tr>\n",
       "      <th>выше среднего</th>\n",
       "      <td>1353</td>\n",
       "      <td>15921</td>\n",
       "      <td>8.5%</td>\n",
       "    </tr>\n",
       "    <tr>\n",
       "      <th>низкий</th>\n",
       "      <td>2</td>\n",
       "      <td>22</td>\n",
       "      <td>9.09%</td>\n",
       "    </tr>\n",
       "  </tbody>\n",
       "</table>\n",
       "</div>"
      ],
      "text/plain": [
       "                      кол-во должников кол-во заёмщиков риск задолженности\n",
       "                                  debt             debt               debt\n",
       "total_income_category                                                     \n",
       "средний                             21              349              6.02%\n",
       "высокий                            354             5014              7.06%\n",
       "очень высокий                        2               25               8.0%\n",
       "выше среднего                     1353            15921               8.5%\n",
       "низкий                               2               22              9.09%"
      ]
     },
     "execution_count": 37,
     "metadata": {},
     "output_type": "execute_result"
    }
   ],
   "source": [
    "# отсортируем полученные данные и переименуем столбцы\n",
    "data_total = data_total.sort_values(by=('percentage_ratio', 'debt'))\n",
    "data_total = data_total.rename(columns={'sum': 'кол-во должников', 'count': 'кол-во заёмщиков', 'percentage_ratio': 'риск задолженности'})\n",
    "data_total"
   ]
  },
  {
   "cell_type": "markdown",
   "id": "b7991967",
   "metadata": {
    "deletable": false,
    "id": "e8593def"
   },
   "source": [
    "**Комментарии:**   \n",
    "1. Построили сводную таблицу для категоризации заёмщиков по уровню дохода.\n",
    "2. Отсортировали ее по возрастанию риска возникновения задолженности, чем меньше коэффициент, тем более 'надёжная' категория заёмщиков.\n",
    "\n",
    "Заемщики со **'средним'** уровнем дохода являются более надёжными.\n",
    "Удивительно, что к **наибольшей группе риска - 9%** относится категория заемщиков с **'низким'** доходом, однако наибольшее количество должников с уровнем доходов **'выше среднего' - 1353 и 'высоким' - 354**."
   ]
  },
  {
   "cell_type": "markdown",
   "id": "4cda63b8",
   "metadata": {
    "deletable": false,
    "editable": false,
    "id": "99ecbd1f"
   },
   "source": [
    "#### 3.4 Как разные цели кредита влияют на его возврат в срок?"
   ]
  },
  {
   "cell_type": "code",
   "execution_count": 38,
   "id": "35791c95",
   "metadata": {
    "deletable": false,
    "id": "2b687290"
   },
   "outputs": [],
   "source": [
    "# построим сводную таблицу для ответа на вопрос\n",
    "data_purpose = data.pivot_table(index=['purpose_category'], values=['debt'], aggfunc=['sum', 'count', percentage_ratio])"
   ]
  },
  {
   "cell_type": "code",
   "execution_count": 39,
   "id": "fa443e7f",
   "metadata": {},
   "outputs": [
    {
     "data": {
      "text/html": [
       "<div>\n",
       "<style scoped>\n",
       "    .dataframe tbody tr th:only-of-type {\n",
       "        vertical-align: middle;\n",
       "    }\n",
       "\n",
       "    .dataframe tbody tr th {\n",
       "        vertical-align: top;\n",
       "    }\n",
       "\n",
       "    .dataframe thead tr th {\n",
       "        text-align: left;\n",
       "    }\n",
       "\n",
       "    .dataframe thead tr:last-of-type th {\n",
       "        text-align: right;\n",
       "    }\n",
       "</style>\n",
       "<table border=\"1\" class=\"dataframe\">\n",
       "  <thead>\n",
       "    <tr>\n",
       "      <th></th>\n",
       "      <th>кол-во должников</th>\n",
       "      <th>кол-во заёмщиков</th>\n",
       "      <th>риск задолженности</th>\n",
       "    </tr>\n",
       "    <tr>\n",
       "      <th></th>\n",
       "      <th>debt</th>\n",
       "      <th>debt</th>\n",
       "      <th>debt</th>\n",
       "    </tr>\n",
       "    <tr>\n",
       "      <th>purpose_category</th>\n",
       "      <th></th>\n",
       "      <th></th>\n",
       "      <th></th>\n",
       "    </tr>\n",
       "  </thead>\n",
       "  <tbody>\n",
       "    <tr>\n",
       "      <th>операции с недвижимостью</th>\n",
       "      <td>780</td>\n",
       "      <td>10751</td>\n",
       "      <td>7.26%</td>\n",
       "    </tr>\n",
       "    <tr>\n",
       "      <th>проведение свадьбы</th>\n",
       "      <td>183</td>\n",
       "      <td>2313</td>\n",
       "      <td>7.91%</td>\n",
       "    </tr>\n",
       "    <tr>\n",
       "      <th>получение образования</th>\n",
       "      <td>369</td>\n",
       "      <td>3988</td>\n",
       "      <td>9.25%</td>\n",
       "    </tr>\n",
       "    <tr>\n",
       "      <th>операции с автомобилем</th>\n",
       "      <td>400</td>\n",
       "      <td>4279</td>\n",
       "      <td>9.35%</td>\n",
       "    </tr>\n",
       "  </tbody>\n",
       "</table>\n",
       "</div>"
      ],
      "text/plain": [
       "                         кол-во должников кол-во заёмщиков риск задолженности\n",
       "                                     debt             debt               debt\n",
       "purpose_category                                                             \n",
       "операции с недвижимостью              780            10751              7.26%\n",
       "проведение свадьбы                    183             2313              7.91%\n",
       "получение образования                 369             3988              9.25%\n",
       "операции с автомобилем                400             4279              9.35%"
      ]
     },
     "execution_count": 39,
     "metadata": {},
     "output_type": "execute_result"
    }
   ],
   "source": [
    "# отсортируем полученные данные и переименуем столбцы\n",
    "data_purpose = data_purpose.sort_values(by=('percentage_ratio', 'debt'))\n",
    "data_purpose = data_purpose.rename(columns={'sum': 'кол-во должников', 'count': 'кол-во заёмщиков', 'percentage_ratio': 'риск задолженности'})\n",
    "data_purpose"
   ]
  },
  {
   "cell_type": "markdown",
   "id": "f505063e",
   "metadata": {
    "deletable": false,
    "id": "b4bb2ce6"
   },
   "source": [
    "**Комментарии:**   \n",
    "1. Построили сводную таблицу для категоризации заёмщиков по цели кредитования.\n",
    "2. Отсортировали ее по возрастанию риска возникновения задолженности.\n",
    "\n",
    "Повышенные риски невозврата кредита в срок у заемщиков с целью **'приобретения автомобиля'- 9,4% и 'получения образования' - 9,3%.**  \n",
    "Наиболее ответственная категория заемщиков, те кто берут кредиты для проведения **'операций с недвижимостью' - 7,3%**.\n"
   ]
  },
  {
   "cell_type": "markdown",
   "id": "3e99e350",
   "metadata": {
    "deletable": false,
    "editable": false,
    "id": "09c3ac4c"
   },
   "source": [
    "#### 3.5 Приведите возможные причины появления пропусков в исходных данных."
   ]
  },
  {
   "cell_type": "markdown",
   "id": "d8c9120b",
   "metadata": {
    "deletable": false,
    "id": "9da2ceda"
   },
   "source": [
    "**Комментарии:**   \n",
    "Пропуски в исходных данных могли появиться из-за:\n",
    "- технических проблем при сборе данных;\n",
    "- датасет был собран из нескольких источников с разными наборами параметров;\n",
    "- человеческий фактор, ошибка банковского специалиста при вводе данных;\n",
    "- возможно у заемщиков нет подтвержденного дохода или стажа (нет официального оформления, серая зп и т.п.);\n",
    "- заемщик никогда не работал, возможно по состоянию здоровья (оформлена инвалидность)."
   ]
  },
  {
   "cell_type": "markdown",
   "id": "888be8e7",
   "metadata": {
    "deletable": false,
    "editable": false,
    "id": "7b0487d6"
   },
   "source": [
    "#### 3.6 Объясните, почему заполнить пропуски медианным значением — лучшее решение для количественных переменных."
   ]
  },
  {
   "cell_type": "markdown",
   "id": "6699a7a7",
   "metadata": {
    "deletable": false,
    "id": "7ecf2b8e"
   },
   "source": [
    "**Комментарии:**  \n",
    "Пропущенные значения в total_income мы заполнили медианным доходом среди всех записей с тем же типом. \n",
    "Заполнение пропусков медианным значением является хорошей альтернативой средней арифметической, т.к. она устойчива к аномальным отклонениям (выбросам), что позволяетт получить более точную информацию и снизить возможную статистическую погрешность."
   ]
  },
  {
   "cell_type": "markdown",
   "id": "2d7a6c2c",
   "metadata": {
    "deletable": false,
    "editable": false,
    "id": "6db5255a"
   },
   "source": [
    "### Шаг 4: общий вывод."
   ]
  },
  {
   "cell_type": "markdown",
   "id": "e6e730b5",
   "metadata": {
    "deletable": false,
    "id": "bad65432"
   },
   "source": [
    "В этом проекте мы выяснили, есть ли взаимосвязь между персональными данными потенциального заемщика и рисками несвоевременного погашения кредита.  \n",
    "\n",
    "**Было проделано не мало работы с данными:**  \n",
    "1. Обработка артефактов;\n",
    "2. Преобразование отрицательных значений в положительные;\n",
    "3. Изменение типа данных на целое число;\n",
    "4. Обработка дубликатов и пропущенных значений;\n",
    "5. Категоризация данных (наличие детей, семейное положение, уровень дохода, цель кредита);\n",
    "\n",
    "**Были обнаружены некоторые проблемы в предоставленных для анализа данных:**  \n",
    "1. Отсутствующие и отрицательные значения в столбце days_employed\n",
    "2. Отсутствующие значения в столбце total_income\n",
    "\n",
    "**Рекомендации для устранения проблем с данными:**  \n",
    "\n",
    "1. Устранить технические неполадки во время сбора данных;\n",
    "2. Провести аудит бизнес-процессов, с целью выявления причины неполного учета доходов и отработанных дней потенциальных заемщиков;\n",
    "3. Строгая категоризация целей кредитования;\n",
    "4. Внедрение категоризации доходов клиентов.\n",
    "\n",
    "В среднем, риски невозврата кредита в срок во всех гипотезах примерно одинаковые, в диапазоне от 7 до 9 процентов.\n",
    "\n",
    "**1. Влияние наличия детей на возврат кредита в срок**  \n",
    "\n",
    "Риски возникновения задолженности у заемщиков без детей ниже, чем у заемщиков с детьми. Самый высокий показатель риска для семей с 4-мя детьми - 9,8%.\n",
    "\n",
    "**2. Влияние наличия детей на возврат кредита в срок**  \n",
    "\n",
    "Риски возникновения задолженности у заемщиков с семейным положением 'вдовец/вдова' самые низкие. Самый высокий риск у заемщиков со статусами 'не женат/не замужем' - 9,8% и 'гражданский брак' - 9,3%, т.е. все кто не состоит официально в отношениях.\n",
    "\n",
    "**3. Влияние цели кредитования на его возврат в срок**  \n",
    "Самые низкие риски у заемщиков с оформленными кредитами по сделкам с недвижимостью - 7,3%. Повышенные риски невозврата кредита в срок у заемщиков с целью 'приобретения автомобиля'- 9,4% и 'получения образования' - 9,3%.\n",
    "\n",
    "\n",
    "Подводя итоги, составим **Портрет идеального заемщика** и **Портрет ненадежного заемщика**.  \n",
    "\n",
    "✅**Портрет идеального заемщика**\n",
    "\n",
    "- Нет детей;\n",
    "- Вдовец/вдова или в разводе;\n",
    "- Доход средний (30-50 т.руб.) или высокий (200т.-1 млн.руб.)\n",
    "- Цель кредитования - операции с недвижимостью.\n",
    "  \n",
    "❌**Портрет ненадежного заемщика**\n",
    "- Наличие 4х или 2х детей, а также семьи с одним ребенком;\n",
    "- Не женат/не замужем или живет в гражданском браке;\n",
    "- Доход низкий (до 30 т.руб.) или выше среднего (50-200 т.руб.)\n",
    "- Цели кредитования - получение образования или покупка авто."
   ]
  }
 ],
 "metadata": {
  "ExecuteTimeLog": [
   {
    "duration": 48,
    "start_time": "2022-09-26T15:11:13.329Z"
   },
   {
    "duration": 7,
    "start_time": "2022-09-26T15:11:30.807Z"
   },
   {
    "duration": 7,
    "start_time": "2022-09-26T15:11:58.048Z"
   },
   {
    "duration": 490,
    "start_time": "2022-09-26T16:53:17.662Z"
   },
   {
    "duration": 25,
    "start_time": "2022-09-26T16:53:18.154Z"
   },
   {
    "duration": 15,
    "start_time": "2022-09-26T16:53:18.181Z"
   },
   {
    "duration": 11,
    "start_time": "2022-09-26T16:53:18.198Z"
   },
   {
    "duration": 62,
    "start_time": "2022-09-26T16:53:18.211Z"
   },
   {
    "duration": 4,
    "start_time": "2022-09-26T16:53:18.275Z"
   },
   {
    "duration": 13,
    "start_time": "2022-09-26T16:53:18.281Z"
   },
   {
    "duration": 4,
    "start_time": "2022-09-26T16:53:18.296Z"
   },
   {
    "duration": 11,
    "start_time": "2022-09-26T16:53:18.302Z"
   },
   {
    "duration": 5,
    "start_time": "2022-09-26T16:53:18.317Z"
   },
   {
    "duration": 60,
    "start_time": "2022-09-26T16:53:18.323Z"
   },
   {
    "duration": 10,
    "start_time": "2022-09-26T16:53:18.385Z"
   },
   {
    "duration": 6,
    "start_time": "2022-09-26T16:53:18.397Z"
   },
   {
    "duration": 19,
    "start_time": "2022-09-26T16:53:18.404Z"
   },
   {
    "duration": 40,
    "start_time": "2022-09-26T16:53:18.425Z"
   },
   {
    "duration": 19,
    "start_time": "2022-09-26T16:53:18.467Z"
   },
   {
    "duration": 4,
    "start_time": "2022-09-26T16:53:18.488Z"
   },
   {
    "duration": 32,
    "start_time": "2022-09-26T16:53:18.494Z"
   },
   {
    "duration": 20,
    "start_time": "2022-09-26T16:53:18.528Z"
   },
   {
    "duration": 7,
    "start_time": "2022-09-26T16:53:18.550Z"
   },
   {
    "duration": 23,
    "start_time": "2022-09-26T16:53:18.558Z"
   },
   {
    "duration": 9,
    "start_time": "2022-09-26T16:53:18.583Z"
   },
   {
    "duration": 5,
    "start_time": "2022-09-26T16:53:18.593Z"
   },
   {
    "duration": 6,
    "start_time": "2022-09-26T16:53:18.599Z"
   },
   {
    "duration": 10,
    "start_time": "2022-09-26T16:53:18.607Z"
   },
   {
    "duration": 8,
    "start_time": "2022-09-26T16:53:28.109Z"
   },
   {
    "duration": 9,
    "start_time": "2022-09-26T16:53:43.580Z"
   },
   {
    "duration": 82,
    "start_time": "2022-09-26T17:14:41.573Z"
   },
   {
    "duration": 8,
    "start_time": "2022-09-26T17:41:07.123Z"
   },
   {
    "duration": 9,
    "start_time": "2022-09-26T18:00:06.218Z"
   },
   {
    "duration": 3,
    "start_time": "2022-09-26T18:00:18.818Z"
   },
   {
    "duration": 29,
    "start_time": "2022-09-26T18:00:20.907Z"
   },
   {
    "duration": 16,
    "start_time": "2022-09-26T18:00:31.953Z"
   },
   {
    "duration": 11,
    "start_time": "2022-09-26T18:00:39.690Z"
   },
   {
    "duration": 51,
    "start_time": "2022-09-26T18:01:51.633Z"
   },
   {
    "duration": 23,
    "start_time": "2022-09-26T18:02:04.361Z"
   },
   {
    "duration": 10,
    "start_time": "2022-09-26T18:05:48.648Z"
   },
   {
    "duration": 26,
    "start_time": "2022-09-26T18:06:01.337Z"
   },
   {
    "duration": 10,
    "start_time": "2022-09-26T18:06:17.704Z"
   },
   {
    "duration": 24,
    "start_time": "2022-09-26T18:07:06.487Z"
   },
   {
    "duration": 11,
    "start_time": "2022-09-26T18:07:22.455Z"
   },
   {
    "duration": 7,
    "start_time": "2022-09-26T18:07:50.856Z"
   },
   {
    "duration": 27,
    "start_time": "2022-09-26T18:07:55.761Z"
   },
   {
    "duration": 11,
    "start_time": "2022-09-26T18:08:17.001Z"
   },
   {
    "duration": 29,
    "start_time": "2022-09-26T18:08:44.742Z"
   },
   {
    "duration": 11,
    "start_time": "2022-09-26T18:08:45.230Z"
   },
   {
    "duration": 10,
    "start_time": "2022-09-26T18:09:18.159Z"
   },
   {
    "duration": 77,
    "start_time": "2022-09-26T19:48:26.952Z"
   },
   {
    "duration": 10,
    "start_time": "2022-09-26T19:53:55.309Z"
   },
   {
    "duration": 110,
    "start_time": "2022-09-26T20:00:20.691Z"
   },
   {
    "duration": 75,
    "start_time": "2022-09-26T20:01:13.539Z"
   },
   {
    "duration": 43,
    "start_time": "2022-09-26T20:02:48.673Z"
   },
   {
    "duration": 15,
    "start_time": "2022-09-26T20:24:24.321Z"
   },
   {
    "duration": 111,
    "start_time": "2022-09-26T20:39:29.874Z"
   },
   {
    "duration": 47,
    "start_time": "2022-09-26T20:49:41.858Z"
   },
   {
    "duration": 15,
    "start_time": "2022-09-26T21:13:22.698Z"
   },
   {
    "duration": 12,
    "start_time": "2022-09-26T21:13:34.513Z"
   },
   {
    "duration": 15,
    "start_time": "2022-09-26T21:13:36.072Z"
   },
   {
    "duration": 21,
    "start_time": "2022-09-26T21:15:05.807Z"
   },
   {
    "duration": 34,
    "start_time": "2022-09-26T21:17:11.022Z"
   },
   {
    "duration": 10,
    "start_time": "2022-09-26T21:17:53.702Z"
   },
   {
    "duration": 19,
    "start_time": "2022-09-26T21:18:02.190Z"
   },
   {
    "duration": 15,
    "start_time": "2022-09-26T21:18:56.342Z"
   },
   {
    "duration": 17,
    "start_time": "2022-09-26T21:22:32.312Z"
   },
   {
    "duration": 2,
    "start_time": "2022-09-26T21:22:56.805Z"
   },
   {
    "duration": 20,
    "start_time": "2022-09-26T21:23:40.988Z"
   },
   {
    "duration": 31,
    "start_time": "2022-09-26T21:24:03.795Z"
   },
   {
    "duration": 9,
    "start_time": "2022-09-26T21:25:07.131Z"
   },
   {
    "duration": 3,
    "start_time": "2022-09-26T21:27:59.483Z"
   },
   {
    "duration": 14,
    "start_time": "2022-09-26T21:28:00.795Z"
   },
   {
    "duration": 435,
    "start_time": "2022-09-26T21:28:35.496Z"
   },
   {
    "duration": 22,
    "start_time": "2022-09-26T21:28:35.933Z"
   },
   {
    "duration": 14,
    "start_time": "2022-09-26T21:28:35.957Z"
   },
   {
    "duration": 9,
    "start_time": "2022-09-26T21:28:35.973Z"
   },
   {
    "duration": 34,
    "start_time": "2022-09-26T21:28:35.984Z"
   },
   {
    "duration": 4,
    "start_time": "2022-09-26T21:28:36.019Z"
   },
   {
    "duration": 34,
    "start_time": "2022-09-26T21:28:36.024Z"
   },
   {
    "duration": 4,
    "start_time": "2022-09-26T21:28:36.060Z"
   },
   {
    "duration": 15,
    "start_time": "2022-09-26T21:28:36.066Z"
   },
   {
    "duration": 4,
    "start_time": "2022-09-26T21:28:36.084Z"
   },
   {
    "duration": 34,
    "start_time": "2022-09-26T21:28:36.089Z"
   },
   {
    "duration": 8,
    "start_time": "2022-09-26T21:28:36.124Z"
   },
   {
    "duration": 4,
    "start_time": "2022-09-26T21:28:36.153Z"
   },
   {
    "duration": 14,
    "start_time": "2022-09-26T21:28:36.159Z"
   },
   {
    "duration": 5,
    "start_time": "2022-09-26T21:28:36.174Z"
   },
   {
    "duration": 21,
    "start_time": "2022-09-26T21:28:36.180Z"
   },
   {
    "duration": 16,
    "start_time": "2022-09-26T21:28:36.203Z"
   },
   {
    "duration": 3,
    "start_time": "2022-09-26T21:28:36.221Z"
   },
   {
    "duration": 34,
    "start_time": "2022-09-26T21:28:36.226Z"
   },
   {
    "duration": 5,
    "start_time": "2022-09-26T21:28:36.262Z"
   },
   {
    "duration": 4,
    "start_time": "2022-09-26T21:28:36.269Z"
   },
   {
    "duration": 13,
    "start_time": "2022-09-26T21:28:36.274Z"
   },
   {
    "duration": 6,
    "start_time": "2022-09-26T21:28:36.289Z"
   },
   {
    "duration": 41,
    "start_time": "2022-09-26T21:28:36.296Z"
   },
   {
    "duration": 15,
    "start_time": "2022-09-26T21:28:36.339Z"
   },
   {
    "duration": 29,
    "start_time": "2022-09-26T21:28:36.356Z"
   },
   {
    "duration": 9,
    "start_time": "2022-09-26T21:28:36.387Z"
   },
   {
    "duration": 23,
    "start_time": "2022-09-26T21:28:36.399Z"
   },
   {
    "duration": 30,
    "start_time": "2022-09-26T21:28:36.424Z"
   },
   {
    "duration": 27,
    "start_time": "2022-09-26T21:28:36.456Z"
   },
   {
    "duration": 10,
    "start_time": "2022-09-26T21:28:36.484Z"
   },
   {
    "duration": 11,
    "start_time": "2022-09-26T21:29:17.801Z"
   },
   {
    "duration": 11,
    "start_time": "2022-09-26T21:29:24.818Z"
   },
   {
    "duration": 4,
    "start_time": "2022-09-26T21:30:48.810Z"
   },
   {
    "duration": 138,
    "start_time": "2022-09-26T21:31:09.490Z"
   },
   {
    "duration": 11,
    "start_time": "2022-09-26T21:31:14.753Z"
   },
   {
    "duration": 13,
    "start_time": "2022-09-26T21:32:16.900Z"
   },
   {
    "duration": 138,
    "start_time": "2022-09-26T21:35:05.072Z"
   },
   {
    "duration": 4,
    "start_time": "2022-09-26T21:35:06.401Z"
   },
   {
    "duration": 131,
    "start_time": "2022-09-26T21:35:06.978Z"
   },
   {
    "duration": 65,
    "start_time": "2022-09-26T21:36:00.040Z"
   },
   {
    "duration": 4,
    "start_time": "2022-09-26T21:36:02.335Z"
   },
   {
    "duration": 132,
    "start_time": "2022-09-26T21:36:02.888Z"
   },
   {
    "duration": 9,
    "start_time": "2022-09-26T21:36:03.377Z"
   },
   {
    "duration": 4,
    "start_time": "2022-09-26T21:36:44.456Z"
   },
   {
    "duration": 221,
    "start_time": "2022-09-26T21:36:45.633Z"
   },
   {
    "duration": 131,
    "start_time": "2022-09-26T21:37:02.191Z"
   },
   {
    "duration": 8,
    "start_time": "2022-09-26T21:37:17.023Z"
   },
   {
    "duration": 9,
    "start_time": "2022-09-26T21:37:47.248Z"
   },
   {
    "duration": 4,
    "start_time": "2022-09-26T21:38:28.711Z"
   },
   {
    "duration": 137,
    "start_time": "2022-09-26T21:38:29.119Z"
   },
   {
    "duration": 7,
    "start_time": "2022-09-26T21:38:29.550Z"
   },
   {
    "duration": 5,
    "start_time": "2022-09-26T21:50:01.211Z"
   },
   {
    "duration": 66,
    "start_time": "2022-09-26T21:50:08.626Z"
   },
   {
    "duration": 50,
    "start_time": "2022-09-26T21:50:12.355Z"
   },
   {
    "duration": 58,
    "start_time": "2022-09-26T21:50:14.771Z"
   },
   {
    "duration": 67,
    "start_time": "2022-09-26T21:50:21.787Z"
   },
   {
    "duration": 61,
    "start_time": "2022-09-26T21:50:32.618Z"
   },
   {
    "duration": 58,
    "start_time": "2022-09-26T21:50:41.290Z"
   },
   {
    "duration": 50,
    "start_time": "2022-09-26T21:50:45.459Z"
   },
   {
    "duration": 50,
    "start_time": "2022-09-26T21:50:48.042Z"
   },
   {
    "duration": 4,
    "start_time": "2022-09-26T21:50:56.842Z"
   },
   {
    "duration": 3,
    "start_time": "2022-09-26T21:51:18.243Z"
   },
   {
    "duration": 12,
    "start_time": "2022-09-26T21:51:27.442Z"
   },
   {
    "duration": 17,
    "start_time": "2022-09-26T21:54:19.089Z"
   },
   {
    "duration": 13,
    "start_time": "2022-09-26T21:54:23.304Z"
   },
   {
    "duration": 53,
    "start_time": "2022-09-26T21:54:36.169Z"
   },
   {
    "duration": 22,
    "start_time": "2022-09-26T21:55:13.353Z"
   },
   {
    "duration": 13,
    "start_time": "2022-09-26T21:55:56.336Z"
   },
   {
    "duration": 6,
    "start_time": "2022-09-26T21:57:42.264Z"
   },
   {
    "duration": 4,
    "start_time": "2022-09-26T22:00:42.574Z"
   },
   {
    "duration": 49,
    "start_time": "2022-09-27T07:51:16.917Z"
   },
   {
    "duration": 6,
    "start_time": "2022-09-27T07:51:23.265Z"
   },
   {
    "duration": 5,
    "start_time": "2022-09-27T07:51:32.706Z"
   },
   {
    "duration": 685,
    "start_time": "2022-09-27T07:51:40.160Z"
   },
   {
    "duration": 23,
    "start_time": "2022-09-27T07:51:40.847Z"
   },
   {
    "duration": 14,
    "start_time": "2022-09-27T07:51:40.872Z"
   },
   {
    "duration": 13,
    "start_time": "2022-09-27T07:51:40.888Z"
   },
   {
    "duration": 35,
    "start_time": "2022-09-27T07:51:40.902Z"
   },
   {
    "duration": 4,
    "start_time": "2022-09-27T07:51:40.939Z"
   },
   {
    "duration": 9,
    "start_time": "2022-09-27T07:51:40.945Z"
   },
   {
    "duration": 12,
    "start_time": "2022-09-27T07:51:40.955Z"
   },
   {
    "duration": 5,
    "start_time": "2022-09-27T07:51:40.969Z"
   },
   {
    "duration": 31,
    "start_time": "2022-09-27T07:51:40.978Z"
   },
   {
    "duration": 5,
    "start_time": "2022-09-27T07:51:41.011Z"
   },
   {
    "duration": 32,
    "start_time": "2022-09-27T07:51:41.017Z"
   },
   {
    "duration": 9,
    "start_time": "2022-09-27T07:51:41.050Z"
   },
   {
    "duration": 3,
    "start_time": "2022-09-27T07:51:41.061Z"
   },
   {
    "duration": 15,
    "start_time": "2022-09-27T07:51:41.065Z"
   },
   {
    "duration": 28,
    "start_time": "2022-09-27T07:51:41.081Z"
   },
   {
    "duration": 22,
    "start_time": "2022-09-27T07:51:41.110Z"
   },
   {
    "duration": 16,
    "start_time": "2022-09-27T07:51:41.133Z"
   },
   {
    "duration": 3,
    "start_time": "2022-09-27T07:51:41.151Z"
   },
   {
    "duration": 158,
    "start_time": "2022-09-27T07:51:41.155Z"
   },
   {
    "duration": 6,
    "start_time": "2022-09-27T07:51:41.315Z"
   },
   {
    "duration": 7,
    "start_time": "2022-09-27T07:51:41.323Z"
   },
   {
    "duration": 6,
    "start_time": "2022-09-27T07:51:41.331Z"
   },
   {
    "duration": 16,
    "start_time": "2022-09-27T07:51:41.339Z"
   },
   {
    "duration": 3,
    "start_time": "2022-09-27T07:51:41.356Z"
   },
   {
    "duration": 27,
    "start_time": "2022-09-27T07:51:41.360Z"
   },
   {
    "duration": 28,
    "start_time": "2022-09-27T07:51:41.388Z"
   },
   {
    "duration": 63,
    "start_time": "2022-09-27T07:51:41.419Z"
   },
   {
    "duration": 0,
    "start_time": "2022-09-27T07:51:41.484Z"
   },
   {
    "duration": 0,
    "start_time": "2022-09-27T07:51:41.485Z"
   },
   {
    "duration": 0,
    "start_time": "2022-09-27T07:51:41.487Z"
   },
   {
    "duration": 0,
    "start_time": "2022-09-27T07:51:41.488Z"
   },
   {
    "duration": 0,
    "start_time": "2022-09-27T07:51:41.489Z"
   },
   {
    "duration": 0,
    "start_time": "2022-09-27T07:51:41.490Z"
   },
   {
    "duration": 6,
    "start_time": "2022-09-27T07:52:04.392Z"
   },
   {
    "duration": 5,
    "start_time": "2022-09-27T08:10:42.324Z"
   },
   {
    "duration": 466,
    "start_time": "2022-09-27T08:12:28.877Z"
   },
   {
    "duration": 22,
    "start_time": "2022-09-27T08:12:29.345Z"
   },
   {
    "duration": 14,
    "start_time": "2022-09-27T08:12:29.368Z"
   },
   {
    "duration": 26,
    "start_time": "2022-09-27T08:12:29.384Z"
   },
   {
    "duration": 30,
    "start_time": "2022-09-27T08:12:29.412Z"
   },
   {
    "duration": 4,
    "start_time": "2022-09-27T08:12:29.443Z"
   },
   {
    "duration": 7,
    "start_time": "2022-09-27T08:12:29.449Z"
   },
   {
    "duration": 10,
    "start_time": "2022-09-27T08:12:29.457Z"
   },
   {
    "duration": 4,
    "start_time": "2022-09-27T08:12:29.468Z"
   },
   {
    "duration": 37,
    "start_time": "2022-09-27T08:12:29.475Z"
   },
   {
    "duration": 4,
    "start_time": "2022-09-27T08:12:29.514Z"
   },
   {
    "duration": 32,
    "start_time": "2022-09-27T08:12:29.519Z"
   },
   {
    "duration": 9,
    "start_time": "2022-09-27T08:12:29.552Z"
   },
   {
    "duration": 8,
    "start_time": "2022-09-27T08:12:29.562Z"
   },
   {
    "duration": 7,
    "start_time": "2022-09-27T08:12:29.572Z"
   },
   {
    "duration": 33,
    "start_time": "2022-09-27T08:12:29.581Z"
   },
   {
    "duration": 4,
    "start_time": "2022-09-27T08:12:29.616Z"
   },
   {
    "duration": 23,
    "start_time": "2022-09-27T08:12:29.622Z"
   },
   {
    "duration": 22,
    "start_time": "2022-09-27T08:12:29.647Z"
   },
   {
    "duration": 3,
    "start_time": "2022-09-27T08:12:29.671Z"
   },
   {
    "duration": 162,
    "start_time": "2022-09-27T08:12:29.675Z"
   },
   {
    "duration": 7,
    "start_time": "2022-09-27T08:12:29.839Z"
   },
   {
    "duration": 9,
    "start_time": "2022-09-27T08:12:29.847Z"
   },
   {
    "duration": 4,
    "start_time": "2022-09-27T08:12:29.858Z"
   },
   {
    "duration": 20,
    "start_time": "2022-09-27T08:12:29.863Z"
   },
   {
    "duration": 25,
    "start_time": "2022-09-27T08:12:29.885Z"
   },
   {
    "duration": 38,
    "start_time": "2022-09-27T08:12:29.912Z"
   },
   {
    "duration": 11,
    "start_time": "2022-09-27T08:12:29.954Z"
   },
   {
    "duration": 131,
    "start_time": "2022-09-27T08:12:29.966Z"
   },
   {
    "duration": 0,
    "start_time": "2022-09-27T08:12:30.099Z"
   },
   {
    "duration": 0,
    "start_time": "2022-09-27T08:12:30.100Z"
   },
   {
    "duration": 0,
    "start_time": "2022-09-27T08:12:30.101Z"
   },
   {
    "duration": 0,
    "start_time": "2022-09-27T08:12:30.102Z"
   },
   {
    "duration": 0,
    "start_time": "2022-09-27T08:12:30.103Z"
   },
   {
    "duration": 0,
    "start_time": "2022-09-27T08:12:30.104Z"
   },
   {
    "duration": 5,
    "start_time": "2022-09-27T08:15:04.414Z"
   },
   {
    "duration": 5,
    "start_time": "2022-09-27T08:15:12.732Z"
   },
   {
    "duration": 5,
    "start_time": "2022-09-27T08:15:29.589Z"
   },
   {
    "duration": 75,
    "start_time": "2022-09-27T08:16:08.211Z"
   },
   {
    "duration": 9,
    "start_time": "2022-09-27T08:16:35.900Z"
   },
   {
    "duration": 11,
    "start_time": "2022-09-27T08:18:35.195Z"
   },
   {
    "duration": 9,
    "start_time": "2022-09-27T08:18:56.428Z"
   },
   {
    "duration": 7,
    "start_time": "2022-09-27T08:19:36.019Z"
   },
   {
    "duration": 11,
    "start_time": "2022-09-27T08:19:48.786Z"
   },
   {
    "duration": 9,
    "start_time": "2022-09-27T08:19:49.242Z"
   },
   {
    "duration": 10,
    "start_time": "2022-09-27T08:19:50.378Z"
   },
   {
    "duration": 9,
    "start_time": "2022-09-27T08:20:14.968Z"
   },
   {
    "duration": 10,
    "start_time": "2022-09-27T08:20:28.588Z"
   },
   {
    "duration": 5,
    "start_time": "2022-09-27T08:23:30.842Z"
   },
   {
    "duration": 24,
    "start_time": "2022-09-27T08:26:29.192Z"
   },
   {
    "duration": 20,
    "start_time": "2022-09-27T08:27:12.366Z"
   },
   {
    "duration": 3,
    "start_time": "2022-09-27T08:44:29.491Z"
   },
   {
    "duration": 137,
    "start_time": "2022-09-27T08:44:30.137Z"
   },
   {
    "duration": 6,
    "start_time": "2022-09-27T08:44:30.944Z"
   },
   {
    "duration": 18,
    "start_time": "2022-09-27T08:45:22.150Z"
   },
   {
    "duration": 3,
    "start_time": "2022-09-27T08:57:23.002Z"
   },
   {
    "duration": 141,
    "start_time": "2022-09-27T08:57:23.690Z"
   },
   {
    "duration": 8,
    "start_time": "2022-09-27T08:57:24.171Z"
   },
   {
    "duration": 19,
    "start_time": "2022-09-27T08:57:37.995Z"
   },
   {
    "duration": 3,
    "start_time": "2022-09-27T08:58:30.321Z"
   },
   {
    "duration": 140,
    "start_time": "2022-09-27T08:58:30.730Z"
   },
   {
    "duration": 6,
    "start_time": "2022-09-27T08:58:31.083Z"
   },
   {
    "duration": 17,
    "start_time": "2022-09-27T08:58:31.630Z"
   },
   {
    "duration": 4,
    "start_time": "2022-09-27T09:02:18.808Z"
   },
   {
    "duration": 150,
    "start_time": "2022-09-27T09:02:19.231Z"
   },
   {
    "duration": 7,
    "start_time": "2022-09-27T09:02:19.608Z"
   },
   {
    "duration": 20,
    "start_time": "2022-09-27T09:02:20.496Z"
   },
   {
    "duration": 3,
    "start_time": "2022-09-27T09:05:11.687Z"
   },
   {
    "duration": 12,
    "start_time": "2022-09-27T09:05:12.470Z"
   },
   {
    "duration": 539,
    "start_time": "2022-09-27T09:08:21.877Z"
   },
   {
    "duration": 5,
    "start_time": "2022-09-27T09:08:35.749Z"
   },
   {
    "duration": 48,
    "start_time": "2022-09-27T09:09:36.941Z"
   },
   {
    "duration": 12,
    "start_time": "2022-09-27T09:10:28.045Z"
   },
   {
    "duration": 61,
    "start_time": "2022-09-27T09:10:34.348Z"
   },
   {
    "duration": 57,
    "start_time": "2022-09-27T09:10:42.084Z"
   },
   {
    "duration": 99,
    "start_time": "2022-09-27T09:10:50.053Z"
   },
   {
    "duration": 11,
    "start_time": "2022-09-27T09:11:43.548Z"
   },
   {
    "duration": 7,
    "start_time": "2022-09-27T09:11:45.299Z"
   },
   {
    "duration": 8,
    "start_time": "2022-09-27T09:12:10.155Z"
   },
   {
    "duration": 72,
    "start_time": "2022-09-27T09:12:16.483Z"
   },
   {
    "duration": 6,
    "start_time": "2022-09-27T09:12:19.099Z"
   },
   {
    "duration": 2,
    "start_time": "2022-09-27T09:12:32.467Z"
   },
   {
    "duration": 224,
    "start_time": "2022-09-27T10:50:12.513Z"
   },
   {
    "duration": 58,
    "start_time": "2022-09-27T10:50:19.481Z"
   },
   {
    "duration": 74,
    "start_time": "2022-09-27T10:51:27.033Z"
   },
   {
    "duration": 3,
    "start_time": "2022-09-27T10:51:48.457Z"
   },
   {
    "duration": 47,
    "start_time": "2022-09-27T10:51:51.306Z"
   },
   {
    "duration": 9,
    "start_time": "2022-09-27T10:52:19.233Z"
   },
   {
    "duration": 2,
    "start_time": "2022-09-27T10:52:42.857Z"
   },
   {
    "duration": 19,
    "start_time": "2022-09-27T10:52:43.657Z"
   },
   {
    "duration": 9,
    "start_time": "2022-09-27T10:52:44.081Z"
   },
   {
    "duration": 436,
    "start_time": "2022-09-27T10:52:49.938Z"
   },
   {
    "duration": 19,
    "start_time": "2022-09-27T10:52:50.376Z"
   },
   {
    "duration": 12,
    "start_time": "2022-09-27T10:52:50.397Z"
   },
   {
    "duration": 8,
    "start_time": "2022-09-27T10:52:50.411Z"
   },
   {
    "duration": 30,
    "start_time": "2022-09-27T10:52:50.420Z"
   },
   {
    "duration": 2,
    "start_time": "2022-09-27T10:52:50.452Z"
   },
   {
    "duration": 6,
    "start_time": "2022-09-27T10:52:50.456Z"
   },
   {
    "duration": 10,
    "start_time": "2022-09-27T10:52:50.464Z"
   },
   {
    "duration": 4,
    "start_time": "2022-09-27T10:52:50.475Z"
   },
   {
    "duration": 6,
    "start_time": "2022-09-27T10:52:50.509Z"
   },
   {
    "duration": 6,
    "start_time": "2022-09-27T10:52:50.516Z"
   },
   {
    "duration": 30,
    "start_time": "2022-09-27T10:52:50.523Z"
   },
   {
    "duration": 8,
    "start_time": "2022-09-27T10:52:50.555Z"
   },
   {
    "duration": 4,
    "start_time": "2022-09-27T10:52:50.564Z"
   },
   {
    "duration": 7,
    "start_time": "2022-09-27T10:52:50.569Z"
   },
   {
    "duration": 39,
    "start_time": "2022-09-27T10:52:50.577Z"
   },
   {
    "duration": 7,
    "start_time": "2022-09-27T10:52:50.618Z"
   },
   {
    "duration": 13,
    "start_time": "2022-09-27T10:52:50.627Z"
   },
   {
    "duration": 24,
    "start_time": "2022-09-27T10:52:50.642Z"
   },
   {
    "duration": 16,
    "start_time": "2022-09-27T10:52:50.668Z"
   },
   {
    "duration": 31,
    "start_time": "2022-09-27T10:52:50.686Z"
   },
   {
    "duration": 3,
    "start_time": "2022-09-27T10:52:50.718Z"
   },
   {
    "duration": 148,
    "start_time": "2022-09-27T10:52:50.723Z"
   },
   {
    "duration": 7,
    "start_time": "2022-09-27T10:52:50.873Z"
   },
   {
    "duration": 28,
    "start_time": "2022-09-27T10:52:50.881Z"
   },
   {
    "duration": 5,
    "start_time": "2022-09-27T10:52:50.911Z"
   },
   {
    "duration": 3,
    "start_time": "2022-09-27T10:52:50.917Z"
   },
   {
    "duration": 23,
    "start_time": "2022-09-27T10:52:50.923Z"
   },
   {
    "duration": 7,
    "start_time": "2022-09-27T10:52:50.947Z"
   },
   {
    "duration": 4,
    "start_time": "2022-09-27T10:52:50.955Z"
   },
   {
    "duration": 24,
    "start_time": "2022-09-27T10:52:50.960Z"
   },
   {
    "duration": 91,
    "start_time": "2022-09-27T10:52:50.985Z"
   },
   {
    "duration": 0,
    "start_time": "2022-09-27T10:52:51.078Z"
   },
   {
    "duration": 0,
    "start_time": "2022-09-27T10:52:51.079Z"
   },
   {
    "duration": 0,
    "start_time": "2022-09-27T10:52:51.080Z"
   },
   {
    "duration": 0,
    "start_time": "2022-09-27T10:52:51.081Z"
   },
   {
    "duration": 0,
    "start_time": "2022-09-27T10:52:51.081Z"
   },
   {
    "duration": 0,
    "start_time": "2022-09-27T10:52:51.082Z"
   },
   {
    "duration": 0,
    "start_time": "2022-09-27T10:52:51.083Z"
   },
   {
    "duration": 104,
    "start_time": "2022-09-27T10:57:30.249Z"
   },
   {
    "duration": 55,
    "start_time": "2022-09-27T10:57:40.491Z"
   },
   {
    "duration": 9,
    "start_time": "2022-09-27T10:57:53.234Z"
   },
   {
    "duration": 9,
    "start_time": "2022-09-27T10:58:08.403Z"
   },
   {
    "duration": 9,
    "start_time": "2022-09-27T10:58:25.658Z"
   },
   {
    "duration": 9,
    "start_time": "2022-09-27T10:58:32.083Z"
   },
   {
    "duration": 21,
    "start_time": "2022-09-27T10:58:46.577Z"
   },
   {
    "duration": 8,
    "start_time": "2022-09-27T10:59:00.233Z"
   },
   {
    "duration": 9,
    "start_time": "2022-09-27T10:59:04.697Z"
   },
   {
    "duration": 8,
    "start_time": "2022-09-27T11:09:02.902Z"
   },
   {
    "duration": 6,
    "start_time": "2022-09-27T11:09:19.614Z"
   },
   {
    "duration": 7,
    "start_time": "2022-09-27T11:09:26.230Z"
   },
   {
    "duration": 6,
    "start_time": "2022-09-27T11:10:06.822Z"
   },
   {
    "duration": 10,
    "start_time": "2022-09-27T11:13:36.623Z"
   },
   {
    "duration": 11,
    "start_time": "2022-09-27T11:15:39.451Z"
   },
   {
    "duration": 66,
    "start_time": "2022-09-27T11:15:50.028Z"
   },
   {
    "duration": 10,
    "start_time": "2022-09-27T11:15:57.204Z"
   },
   {
    "duration": 10,
    "start_time": "2022-09-27T11:16:48.335Z"
   },
   {
    "duration": 10,
    "start_time": "2022-09-27T11:17:20.715Z"
   },
   {
    "duration": 22,
    "start_time": "2022-09-27T11:17:28.795Z"
   },
   {
    "duration": 12,
    "start_time": "2022-09-27T11:17:29.188Z"
   },
   {
    "duration": 730,
    "start_time": "2022-09-27T11:19:20.721Z"
   },
   {
    "duration": 7,
    "start_time": "2022-09-27T11:19:31.458Z"
   },
   {
    "duration": 2,
    "start_time": "2022-09-27T11:20:36.388Z"
   },
   {
    "duration": 7,
    "start_time": "2022-09-27T11:20:42.938Z"
   },
   {
    "duration": 7,
    "start_time": "2022-09-27T11:21:08.826Z"
   },
   {
    "duration": 11,
    "start_time": "2022-09-27T11:22:37.130Z"
   },
   {
    "duration": 29,
    "start_time": "2022-09-27T11:22:49.362Z"
   },
   {
    "duration": 15,
    "start_time": "2022-09-27T11:22:49.689Z"
   },
   {
    "duration": 15,
    "start_time": "2022-09-27T11:23:40.938Z"
   },
   {
    "duration": 2,
    "start_time": "2022-09-27T11:23:51.472Z"
   },
   {
    "duration": 20,
    "start_time": "2022-09-27T11:23:55.056Z"
   },
   {
    "duration": 12,
    "start_time": "2022-09-27T11:23:55.466Z"
   },
   {
    "duration": 15,
    "start_time": "2022-09-27T11:26:19.650Z"
   },
   {
    "duration": 10,
    "start_time": "2022-09-27T11:28:34.959Z"
   },
   {
    "duration": 9,
    "start_time": "2022-09-27T11:29:55.071Z"
   },
   {
    "duration": 20,
    "start_time": "2022-09-27T11:30:02.183Z"
   },
   {
    "duration": 11,
    "start_time": "2022-09-27T11:30:02.511Z"
   },
   {
    "duration": 9,
    "start_time": "2022-09-27T11:30:17.734Z"
   },
   {
    "duration": 10,
    "start_time": "2022-09-27T11:30:25.167Z"
   },
   {
    "duration": 27,
    "start_time": "2022-09-27T11:30:28.085Z"
   },
   {
    "duration": 14,
    "start_time": "2022-09-27T11:30:28.423Z"
   },
   {
    "duration": 1273,
    "start_time": "2022-09-27T11:37:56.588Z"
   },
   {
    "duration": 22,
    "start_time": "2022-09-27T11:37:57.863Z"
   },
   {
    "duration": 10,
    "start_time": "2022-09-27T11:38:13.179Z"
   },
   {
    "duration": 22,
    "start_time": "2022-09-27T11:38:16.460Z"
   },
   {
    "duration": 12,
    "start_time": "2022-09-27T11:38:34.787Z"
   },
   {
    "duration": 10,
    "start_time": "2022-09-27T11:47:07.745Z"
   },
   {
    "duration": 20,
    "start_time": "2022-09-27T11:47:11.392Z"
   },
   {
    "duration": 13,
    "start_time": "2022-09-27T11:47:11.706Z"
   },
   {
    "duration": 26,
    "start_time": "2022-09-27T11:48:13.295Z"
   },
   {
    "duration": 14,
    "start_time": "2022-09-27T11:48:13.672Z"
   },
   {
    "duration": 3,
    "start_time": "2022-09-27T11:53:08.767Z"
   },
   {
    "duration": 21,
    "start_time": "2022-09-27T11:53:09.559Z"
   },
   {
    "duration": 19,
    "start_time": "2022-09-27T11:53:09.995Z"
   },
   {
    "duration": 8,
    "start_time": "2022-09-27T11:53:27.725Z"
   },
   {
    "duration": 2,
    "start_time": "2022-09-27T11:54:01.654Z"
   },
   {
    "duration": 35,
    "start_time": "2022-09-27T11:56:11.037Z"
   },
   {
    "duration": 10,
    "start_time": "2022-09-27T11:56:28.604Z"
   },
   {
    "duration": 9,
    "start_time": "2022-09-27T11:59:46.036Z"
   },
   {
    "duration": 21,
    "start_time": "2022-09-27T11:59:50.636Z"
   },
   {
    "duration": 20,
    "start_time": "2022-09-27T11:59:50.836Z"
   },
   {
    "duration": 24,
    "start_time": "2022-09-27T11:59:51.044Z"
   },
   {
    "duration": 4,
    "start_time": "2022-09-27T11:59:51.763Z"
   },
   {
    "duration": 144,
    "start_time": "2022-09-27T11:59:51.939Z"
   },
   {
    "duration": 6,
    "start_time": "2022-09-27T11:59:52.115Z"
   },
   {
    "duration": 17,
    "start_time": "2022-09-27T11:59:52.322Z"
   },
   {
    "duration": 6,
    "start_time": "2022-09-27T11:59:52.859Z"
   },
   {
    "duration": 3,
    "start_time": "2022-09-27T11:59:53.451Z"
   },
   {
    "duration": 12,
    "start_time": "2022-09-27T11:59:53.651Z"
   },
   {
    "duration": 2,
    "start_time": "2022-09-27T11:59:53.867Z"
   },
   {
    "duration": 3,
    "start_time": "2022-09-27T11:59:54.706Z"
   },
   {
    "duration": 19,
    "start_time": "2022-09-27T11:59:55.115Z"
   },
   {
    "duration": 11,
    "start_time": "2022-09-27T11:59:55.315Z"
   },
   {
    "duration": 2,
    "start_time": "2022-09-27T11:59:55.515Z"
   },
   {
    "duration": 28,
    "start_time": "2022-09-27T11:59:56.244Z"
   },
   {
    "duration": 9,
    "start_time": "2022-09-27T11:59:57.580Z"
   },
   {
    "duration": 14,
    "start_time": "2022-09-27T12:11:02.153Z"
   },
   {
    "duration": 57,
    "start_time": "2022-09-27T12:12:42.791Z"
   },
   {
    "duration": 31,
    "start_time": "2022-09-27T12:13:14.465Z"
   },
   {
    "duration": 21,
    "start_time": "2022-09-27T12:14:30.241Z"
   },
   {
    "duration": 19,
    "start_time": "2022-09-27T12:14:48.247Z"
   },
   {
    "duration": 20,
    "start_time": "2022-09-27T12:15:20.416Z"
   },
   {
    "duration": 17,
    "start_time": "2022-09-27T12:15:39.751Z"
   },
   {
    "duration": 17,
    "start_time": "2022-09-27T12:15:44.504Z"
   },
   {
    "duration": 3,
    "start_time": "2022-09-27T12:16:02.767Z"
   },
   {
    "duration": 19,
    "start_time": "2022-09-27T12:16:03.432Z"
   },
   {
    "duration": 62,
    "start_time": "2022-09-27T12:16:15.720Z"
   },
   {
    "duration": 3,
    "start_time": "2022-09-27T12:16:17.440Z"
   },
   {
    "duration": 91,
    "start_time": "2022-09-27T12:16:17.913Z"
   },
   {
    "duration": 4,
    "start_time": "2022-09-27T12:16:30.023Z"
   },
   {
    "duration": 27,
    "start_time": "2022-09-27T12:16:30.934Z"
   },
   {
    "duration": 15,
    "start_time": "2022-09-27T12:16:31.663Z"
   },
   {
    "duration": 28,
    "start_time": "2022-09-27T12:20:30.198Z"
   },
   {
    "duration": 12,
    "start_time": "2022-09-27T12:20:30.413Z"
   },
   {
    "duration": 3,
    "start_time": "2022-09-27T12:20:32.421Z"
   },
   {
    "duration": 24,
    "start_time": "2022-09-27T12:20:36.317Z"
   },
   {
    "duration": 10,
    "start_time": "2022-09-27T12:20:36.717Z"
   },
   {
    "duration": 26,
    "start_time": "2022-09-27T12:25:26.283Z"
   },
   {
    "duration": 11,
    "start_time": "2022-09-27T12:25:26.746Z"
   },
   {
    "duration": 3,
    "start_time": "2022-09-27T12:27:01.579Z"
   },
   {
    "duration": 27,
    "start_time": "2022-09-27T12:27:02.515Z"
   },
   {
    "duration": 12,
    "start_time": "2022-09-27T12:27:03.092Z"
   },
   {
    "duration": 30,
    "start_time": "2022-09-27T12:27:34.659Z"
   },
   {
    "duration": 11,
    "start_time": "2022-09-27T12:27:35.195Z"
   },
   {
    "duration": 24,
    "start_time": "2022-09-27T12:28:47.019Z"
   },
   {
    "duration": 12,
    "start_time": "2022-09-27T12:28:47.370Z"
   },
   {
    "duration": 37,
    "start_time": "2022-09-27T12:41:36.552Z"
   },
   {
    "duration": 16,
    "start_time": "2022-09-27T12:41:37.062Z"
   },
   {
    "duration": 447,
    "start_time": "2022-09-27T12:56:39.856Z"
   },
   {
    "duration": 31,
    "start_time": "2022-09-27T12:56:40.306Z"
   },
   {
    "duration": 38,
    "start_time": "2022-09-27T12:56:40.339Z"
   },
   {
    "duration": 14,
    "start_time": "2022-09-27T12:56:40.379Z"
   },
   {
    "duration": 53,
    "start_time": "2022-09-27T12:56:40.395Z"
   },
   {
    "duration": 3,
    "start_time": "2022-09-27T12:56:40.450Z"
   },
   {
    "duration": 8,
    "start_time": "2022-09-27T12:56:40.455Z"
   },
   {
    "duration": 9,
    "start_time": "2022-09-27T12:56:40.464Z"
   },
   {
    "duration": 5,
    "start_time": "2022-09-27T12:56:40.475Z"
   },
   {
    "duration": 6,
    "start_time": "2022-09-27T12:56:40.510Z"
   },
   {
    "duration": 8,
    "start_time": "2022-09-27T12:56:40.517Z"
   },
   {
    "duration": 32,
    "start_time": "2022-09-27T12:56:40.527Z"
   },
   {
    "duration": 10,
    "start_time": "2022-09-27T12:56:40.561Z"
   },
   {
    "duration": 4,
    "start_time": "2022-09-27T12:56:40.573Z"
   },
   {
    "duration": 32,
    "start_time": "2022-09-27T12:56:40.578Z"
   },
   {
    "duration": 13,
    "start_time": "2022-09-27T12:56:40.612Z"
   },
   {
    "duration": 10,
    "start_time": "2022-09-27T12:56:40.627Z"
   },
   {
    "duration": 19,
    "start_time": "2022-09-27T12:56:40.639Z"
   },
   {
    "duration": 20,
    "start_time": "2022-09-27T12:56:40.660Z"
   },
   {
    "duration": 37,
    "start_time": "2022-09-27T12:56:40.682Z"
   },
   {
    "duration": 18,
    "start_time": "2022-09-27T12:56:40.720Z"
   },
   {
    "duration": 3,
    "start_time": "2022-09-27T12:56:40.740Z"
   },
   {
    "duration": 163,
    "start_time": "2022-09-27T12:56:40.744Z"
   },
   {
    "duration": 8,
    "start_time": "2022-09-27T12:56:40.909Z"
   },
   {
    "duration": 34,
    "start_time": "2022-09-27T12:56:40.918Z"
   },
   {
    "duration": 17,
    "start_time": "2022-09-27T12:56:40.954Z"
   },
   {
    "duration": 6,
    "start_time": "2022-09-27T12:56:40.973Z"
   },
   {
    "duration": 27,
    "start_time": "2022-09-27T12:56:40.983Z"
   },
   {
    "duration": 2,
    "start_time": "2022-09-27T12:56:41.011Z"
   },
   {
    "duration": 9,
    "start_time": "2022-09-27T12:56:41.015Z"
   },
   {
    "duration": 39,
    "start_time": "2022-09-27T12:56:41.026Z"
   },
   {
    "duration": 14,
    "start_time": "2022-09-27T12:56:41.067Z"
   },
   {
    "duration": 10,
    "start_time": "2022-09-27T12:56:41.082Z"
   },
   {
    "duration": 35,
    "start_time": "2022-09-27T12:56:41.110Z"
   },
   {
    "duration": 14,
    "start_time": "2022-09-27T12:56:41.146Z"
   },
   {
    "duration": 54,
    "start_time": "2022-09-27T12:56:41.162Z"
   },
   {
    "duration": 13,
    "start_time": "2022-09-27T12:56:41.218Z"
   },
   {
    "duration": 33,
    "start_time": "2022-09-27T12:56:41.233Z"
   },
   {
    "duration": 14,
    "start_time": "2022-09-27T12:56:41.268Z"
   },
   {
    "duration": 11,
    "start_time": "2022-09-27T12:57:41.521Z"
   },
   {
    "duration": 15,
    "start_time": "2022-09-27T12:57:46.601Z"
   },
   {
    "duration": 484,
    "start_time": "2022-09-27T12:57:58.276Z"
   },
   {
    "duration": 20,
    "start_time": "2022-09-27T12:57:58.762Z"
   },
   {
    "duration": 14,
    "start_time": "2022-09-27T12:57:58.784Z"
   },
   {
    "duration": 9,
    "start_time": "2022-09-27T12:57:58.809Z"
   },
   {
    "duration": 35,
    "start_time": "2022-09-27T12:57:58.819Z"
   },
   {
    "duration": 3,
    "start_time": "2022-09-27T12:57:58.857Z"
   },
   {
    "duration": 9,
    "start_time": "2022-09-27T12:57:58.862Z"
   },
   {
    "duration": 19,
    "start_time": "2022-09-27T12:57:58.872Z"
   },
   {
    "duration": 19,
    "start_time": "2022-09-27T12:57:58.892Z"
   },
   {
    "duration": 8,
    "start_time": "2022-09-27T12:57:58.915Z"
   },
   {
    "duration": 13,
    "start_time": "2022-09-27T12:57:58.924Z"
   },
   {
    "duration": 54,
    "start_time": "2022-09-27T12:57:58.938Z"
   },
   {
    "duration": 24,
    "start_time": "2022-09-27T12:57:58.994Z"
   },
   {
    "duration": 4,
    "start_time": "2022-09-27T12:57:59.020Z"
   },
   {
    "duration": 6,
    "start_time": "2022-09-27T12:57:59.026Z"
   },
   {
    "duration": 22,
    "start_time": "2022-09-27T12:57:59.034Z"
   },
   {
    "duration": 15,
    "start_time": "2022-09-27T12:57:59.058Z"
   },
   {
    "duration": 38,
    "start_time": "2022-09-27T12:57:59.075Z"
   },
   {
    "duration": 26,
    "start_time": "2022-09-27T12:57:59.114Z"
   },
   {
    "duration": 18,
    "start_time": "2022-09-27T12:57:59.142Z"
   },
   {
    "duration": 17,
    "start_time": "2022-09-27T12:57:59.161Z"
   },
   {
    "duration": 3,
    "start_time": "2022-09-27T12:57:59.180Z"
   },
   {
    "duration": 172,
    "start_time": "2022-09-27T12:57:59.185Z"
   },
   {
    "duration": 7,
    "start_time": "2022-09-27T12:57:59.359Z"
   },
   {
    "duration": 19,
    "start_time": "2022-09-27T12:57:59.367Z"
   },
   {
    "duration": 23,
    "start_time": "2022-09-27T12:57:59.387Z"
   },
   {
    "duration": 3,
    "start_time": "2022-09-27T12:57:59.411Z"
   },
   {
    "duration": 15,
    "start_time": "2022-09-27T12:57:59.417Z"
   },
   {
    "duration": 3,
    "start_time": "2022-09-27T12:57:59.433Z"
   },
   {
    "duration": 9,
    "start_time": "2022-09-27T12:57:59.437Z"
   },
   {
    "duration": 25,
    "start_time": "2022-09-27T12:57:59.447Z"
   },
   {
    "duration": 37,
    "start_time": "2022-09-27T12:57:59.473Z"
   },
   {
    "duration": 7,
    "start_time": "2022-09-27T12:57:59.512Z"
   },
   {
    "duration": 30,
    "start_time": "2022-09-27T12:57:59.520Z"
   },
   {
    "duration": 14,
    "start_time": "2022-09-27T12:57:59.551Z"
   },
   {
    "duration": 43,
    "start_time": "2022-09-27T12:57:59.566Z"
   },
   {
    "duration": 11,
    "start_time": "2022-09-27T12:57:59.611Z"
   },
   {
    "duration": 28,
    "start_time": "2022-09-27T12:57:59.624Z"
   },
   {
    "duration": 19,
    "start_time": "2022-09-27T12:57:59.654Z"
   },
   {
    "duration": 3,
    "start_time": "2022-09-27T13:59:13.298Z"
   },
   {
    "duration": 137,
    "start_time": "2022-09-27T13:59:14.090Z"
   },
   {
    "duration": 8,
    "start_time": "2022-09-27T13:59:14.468Z"
   },
   {
    "duration": 477,
    "start_time": "2022-09-27T14:20:01.506Z"
   },
   {
    "duration": 23,
    "start_time": "2022-09-27T14:20:01.984Z"
   },
   {
    "duration": 19,
    "start_time": "2022-09-27T14:20:02.008Z"
   },
   {
    "duration": 9,
    "start_time": "2022-09-27T14:20:02.029Z"
   },
   {
    "duration": 41,
    "start_time": "2022-09-27T14:20:02.039Z"
   },
   {
    "duration": 3,
    "start_time": "2022-09-27T14:20:02.082Z"
   },
   {
    "duration": 20,
    "start_time": "2022-09-27T14:20:02.086Z"
   },
   {
    "duration": 8,
    "start_time": "2022-09-27T14:20:02.109Z"
   },
   {
    "duration": 7,
    "start_time": "2022-09-27T14:20:02.119Z"
   },
   {
    "duration": 15,
    "start_time": "2022-09-27T14:20:02.129Z"
   },
   {
    "duration": 13,
    "start_time": "2022-09-27T14:20:02.145Z"
   },
   {
    "duration": 48,
    "start_time": "2022-09-27T14:20:02.159Z"
   },
   {
    "duration": 9,
    "start_time": "2022-09-27T14:20:02.208Z"
   },
   {
    "duration": 4,
    "start_time": "2022-09-27T14:20:02.218Z"
   },
   {
    "duration": 10,
    "start_time": "2022-09-27T14:20:02.223Z"
   },
   {
    "duration": 25,
    "start_time": "2022-09-27T14:20:02.235Z"
   },
   {
    "duration": 9,
    "start_time": "2022-09-27T14:20:02.262Z"
   },
   {
    "duration": 23,
    "start_time": "2022-09-27T14:20:02.272Z"
   },
   {
    "duration": 29,
    "start_time": "2022-09-27T14:20:02.297Z"
   },
   {
    "duration": 17,
    "start_time": "2022-09-27T14:20:02.328Z"
   },
   {
    "duration": 54,
    "start_time": "2022-09-27T14:20:02.349Z"
   },
   {
    "duration": 5,
    "start_time": "2022-09-27T14:20:02.404Z"
   },
   {
    "duration": 152,
    "start_time": "2022-09-27T14:20:02.410Z"
   },
   {
    "duration": 6,
    "start_time": "2022-09-27T14:20:02.563Z"
   },
   {
    "duration": 20,
    "start_time": "2022-09-27T14:20:02.571Z"
   },
   {
    "duration": 20,
    "start_time": "2022-09-27T14:20:02.593Z"
   },
   {
    "duration": 3,
    "start_time": "2022-09-27T14:20:02.614Z"
   },
   {
    "duration": 12,
    "start_time": "2022-09-27T14:20:02.620Z"
   },
   {
    "duration": 2,
    "start_time": "2022-09-27T14:20:02.633Z"
   },
   {
    "duration": 5,
    "start_time": "2022-09-27T14:20:02.636Z"
   },
   {
    "duration": 27,
    "start_time": "2022-09-27T14:20:02.642Z"
   },
   {
    "duration": 44,
    "start_time": "2022-09-27T14:20:02.671Z"
   },
   {
    "duration": 2,
    "start_time": "2022-09-27T14:20:02.716Z"
   },
   {
    "duration": 29,
    "start_time": "2022-09-27T14:20:02.720Z"
   },
   {
    "duration": 10,
    "start_time": "2022-09-27T14:20:02.750Z"
   },
   {
    "duration": 48,
    "start_time": "2022-09-27T14:20:02.761Z"
   },
   {
    "duration": 11,
    "start_time": "2022-09-27T14:20:02.810Z"
   },
   {
    "duration": 35,
    "start_time": "2022-09-27T14:20:02.822Z"
   },
   {
    "duration": 10,
    "start_time": "2022-09-27T14:20:02.859Z"
   },
   {
    "duration": 482,
    "start_time": "2022-09-27T14:20:34.490Z"
   },
   {
    "duration": 23,
    "start_time": "2022-09-27T14:20:34.974Z"
   },
   {
    "duration": 14,
    "start_time": "2022-09-27T14:20:34.998Z"
   },
   {
    "duration": 11,
    "start_time": "2022-09-27T14:20:35.013Z"
   },
   {
    "duration": 29,
    "start_time": "2022-09-27T14:20:35.026Z"
   },
   {
    "duration": 3,
    "start_time": "2022-09-27T14:20:35.057Z"
   },
   {
    "duration": 9,
    "start_time": "2022-09-27T14:20:35.061Z"
   },
   {
    "duration": 9,
    "start_time": "2022-09-27T14:20:35.071Z"
   },
   {
    "duration": 3,
    "start_time": "2022-09-27T14:20:35.082Z"
   },
   {
    "duration": 25,
    "start_time": "2022-09-27T14:20:35.088Z"
   },
   {
    "duration": 23,
    "start_time": "2022-09-27T14:20:35.114Z"
   },
   {
    "duration": 33,
    "start_time": "2022-09-27T14:20:35.138Z"
   },
   {
    "duration": 9,
    "start_time": "2022-09-27T14:20:35.173Z"
   },
   {
    "duration": 4,
    "start_time": "2022-09-27T14:20:35.184Z"
   },
   {
    "duration": 20,
    "start_time": "2022-09-27T14:20:35.189Z"
   },
   {
    "duration": 11,
    "start_time": "2022-09-27T14:20:35.211Z"
   },
   {
    "duration": 8,
    "start_time": "2022-09-27T14:20:35.224Z"
   },
   {
    "duration": 14,
    "start_time": "2022-09-27T14:20:35.233Z"
   },
   {
    "duration": 24,
    "start_time": "2022-09-27T14:20:35.248Z"
   },
   {
    "duration": 45,
    "start_time": "2022-09-27T14:20:35.274Z"
   },
   {
    "duration": 20,
    "start_time": "2022-09-27T14:20:35.321Z"
   },
   {
    "duration": 3,
    "start_time": "2022-09-27T14:20:35.342Z"
   },
   {
    "duration": 151,
    "start_time": "2022-09-27T14:20:35.346Z"
   },
   {
    "duration": 10,
    "start_time": "2022-09-27T14:20:35.499Z"
   },
   {
    "duration": 18,
    "start_time": "2022-09-27T14:20:35.510Z"
   },
   {
    "duration": 10,
    "start_time": "2022-09-27T14:20:35.530Z"
   },
   {
    "duration": 6,
    "start_time": "2022-09-27T14:20:35.541Z"
   },
   {
    "duration": 12,
    "start_time": "2022-09-27T14:20:35.550Z"
   },
   {
    "duration": 2,
    "start_time": "2022-09-27T14:20:35.563Z"
   },
   {
    "duration": 6,
    "start_time": "2022-09-27T14:20:35.566Z"
   },
   {
    "duration": 54,
    "start_time": "2022-09-27T14:20:35.573Z"
   },
   {
    "duration": 10,
    "start_time": "2022-09-27T14:20:35.628Z"
   },
   {
    "duration": 21,
    "start_time": "2022-09-27T14:20:35.640Z"
   },
   {
    "duration": 27,
    "start_time": "2022-09-27T14:20:35.662Z"
   },
   {
    "duration": 19,
    "start_time": "2022-09-27T14:20:35.691Z"
   },
   {
    "duration": 28,
    "start_time": "2022-09-27T14:20:35.711Z"
   },
   {
    "duration": 10,
    "start_time": "2022-09-27T14:20:35.740Z"
   },
   {
    "duration": 25,
    "start_time": "2022-09-27T14:20:35.752Z"
   },
   {
    "duration": 30,
    "start_time": "2022-09-27T14:20:35.779Z"
   }
  ],
  "colab": {
   "name": "dpp_template_part2.ipynb",
   "provenance": []
  },
  "kernelspec": {
   "display_name": "Python 3 (ipykernel)",
   "language": "python",
   "name": "python3"
  },
  "language_info": {
   "codemirror_mode": {
    "name": "ipython",
    "version": 3
   },
   "file_extension": ".py",
   "mimetype": "text/x-python",
   "name": "python",
   "nbconvert_exporter": "python",
   "pygments_lexer": "ipython3",
   "version": "3.11.3"
  },
  "toc": {
   "base_numbering": 1,
   "nav_menu": {},
   "number_sections": true,
   "sideBar": true,
   "skip_h1_title": true,
   "title_cell": "Table of Contents",
   "title_sidebar": "Contents",
   "toc_cell": false,
   "toc_position": {
    "height": "calc(100% - 180px)",
    "left": "10px",
    "top": "150px",
    "width": "165px"
   },
   "toc_section_display": true,
   "toc_window_display": true
  }
 },
 "nbformat": 4,
 "nbformat_minor": 5
}
